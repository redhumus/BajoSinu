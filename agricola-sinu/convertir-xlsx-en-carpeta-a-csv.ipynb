{
 "cells": [
  {
   "cell_type": "markdown",
   "id": "869a5db0",
   "metadata": {},
   "source": [
    "# Preparación de archivos\n",
    "\n",
    "Para el caso de uso con el SIPRA de la UPRA Colombia, el sistema permite descargar archivos en formato .xlsx. Por tanto para usar formatos estandar de datos abiertos se convertirán a .csv para poderlos procesar"
   ]
  },
  {
   "cell_type": "code",
   "execution_count": 3,
   "id": "fba243ca",
   "metadata": {},
   "outputs": [
    {
     "name": "stderr",
     "output_type": "stream",
     "text": [
      "/home/omnibus/.local/lib/python3.10/site-packages/openpyxl/worksheet/_reader.py:329: UserWarning: Conditional Formatting extension is not supported and will be removed\n",
      "  warn(msg)\n",
      "/home/omnibus/.local/lib/python3.10/site-packages/openpyxl/worksheet/_reader.py:329: UserWarning: Data Validation extension is not supported and will be removed\n",
      "  warn(msg)\n",
      "/home/omnibus/.local/lib/python3.10/site-packages/openpyxl/worksheet/_reader.py:329: UserWarning: Conditional Formatting extension is not supported and will be removed\n",
      "  warn(msg)\n",
      "/home/omnibus/.local/lib/python3.10/site-packages/openpyxl/worksheet/_reader.py:329: UserWarning: Data Validation extension is not supported and will be removed\n",
      "  warn(msg)\n"
     ]
    },
    {
     "name": "stdout",
     "output_type": "stream",
     "text": [
      "Todos los archivos se convirtieron correctamente.\n",
      "¿Desea continuar con la conversión de todos los archivos? (S/N): S\n"
     ]
    },
    {
     "name": "stderr",
     "output_type": "stream",
     "text": [
      "/home/omnibus/.local/lib/python3.10/site-packages/openpyxl/worksheet/_reader.py:329: UserWarning: Conditional Formatting extension is not supported and will be removed\n",
      "  warn(msg)\n",
      "/home/omnibus/.local/lib/python3.10/site-packages/openpyxl/worksheet/_reader.py:329: UserWarning: Data Validation extension is not supported and will be removed\n",
      "  warn(msg)\n",
      "/home/omnibus/.local/lib/python3.10/site-packages/openpyxl/worksheet/_reader.py:329: UserWarning: Conditional Formatting extension is not supported and will be removed\n",
      "  warn(msg)\n",
      "/home/omnibus/.local/lib/python3.10/site-packages/openpyxl/worksheet/_reader.py:329: UserWarning: Data Validation extension is not supported and will be removed\n",
      "  warn(msg)\n"
     ]
    },
    {
     "name": "stdout",
     "output_type": "stream",
     "text": [
      "Conversión completa.\n"
     ]
    }
   ],
   "source": [
    "import os\n",
    "import pandas as pd\n",
    "\n",
    "# Directorio que contiene los archivos .xlsx\n",
    "directory = './'\n",
    "\n",
    "# Obtener la lista de archivos en el directorio\n",
    "files = os.listdir(directory)\n",
    "\n",
    "# Lista para almacenar los nombres de los archivos con error\n",
    "files_with_error = []\n",
    "\n",
    "# Iterar sobre los archivos en el directorio\n",
    "for file in files:\n",
    "    # Verificar si el archivo es .xlsx\n",
    "    if file.endswith('.xlsx'):\n",
    "        # Ruta del archivo .xlsx\n",
    "        xlsx_file = os.path.join(directory, file)\n",
    "        \n",
    "        try:\n",
    "            # Intentar leer el archivo .xlsx\n",
    "            df = pd.read_excel(xlsx_file)\n",
    "            \n",
    "            # Ruta de salida del archivo .csv\n",
    "            csv_file = os.path.join(directory, f'{os.path.splitext(file)[0]}.csv')\n",
    "            \n",
    "            # Guardar el DataFrame en un archivo .csv\n",
    "            df.to_csv(csv_file, index=False)\n",
    "        except Exception as e:\n",
    "            # Agregar el nombre del archivo a la lista de errores\n",
    "            files_with_error.append(file)\n",
    "            print(f'Error al leer el archivo \"{file}\": {str(e)}')\n",
    "\n",
    "# Verificar si hubo errores\n",
    "if files_with_error:\n",
    "    print('Se encontraron errores al leer los siguientes archivos:')\n",
    "    for file in files_with_error:\n",
    "        print(file)\n",
    "    print('No se pudo convertir todos los archivos. Por favor, revise los archivos con errores.')\n",
    "else:\n",
    "    print('Todos los archivos se convirtieron correctamente.')\n",
    "\n",
    "# Confirmar la conversión de todos los archivos\n",
    "confirm = input('¿Desea continuar con la conversión de todos los archivos? (S/N): ')\n",
    "if confirm.lower() == 's':\n",
    "    for file in files:\n",
    "        # Verificar si el archivo es .xlsx\n",
    "        if file.endswith('.xlsx'):\n",
    "            # Ruta del archivo .xlsx\n",
    "            xlsx_file = os.path.join(directory, file)\n",
    "            \n",
    "            # Leer el archivo .xlsx\n",
    "            try:\n",
    "                df = pd.read_excel(xlsx_file)\n",
    "                \n",
    "                # Ruta de salida del archivo .csv\n",
    "                csv_file = os.path.join(directory, f'{os.path.splitext(file)[0]}.csv')\n",
    "                \n",
    "                # Guardar el DataFrame en un archivo .csv\n",
    "                df.to_csv(csv_file, index=False)\n",
    "            except Exception as e:\n",
    "                print(f'Error al leer el archivo \"{file}\": {str(e)}')\n",
    "    print('Conversión completa.')\n",
    "else:\n",
    "    print('Conversión cancelada.')\n"
   ]
  },
  {
   "cell_type": "code",
   "execution_count": null,
   "id": "603fd2ef",
   "metadata": {},
   "outputs": [],
   "source": [
    "# Por cada archivo .csv crear un campo \"Producto\" y agregar a cada registro bajo ese campo el nombre del archivo correspondiente sin la extensión .csv"
   ]
  },
  {
   "cell_type": "code",
   "execution_count": 4,
   "id": "256e5fef",
   "metadata": {},
   "outputs": [
    {
     "name": "stdout",
     "output_type": "stream",
     "text": [
      "Se agregó la columna 'Producto' al archivo yuca.csv y se asignó el nombre del producto.\n",
      "Se agregó la columna 'Producto' al archivo maiz-blanco-tecnificado.csv y se asignó el nombre del producto.\n",
      "Se agregó la columna 'Producto' al archivo bovinos-2004-2009.csv y se asignó el nombre del producto.\n",
      "Se agregó la columna 'Producto' al archivo pepino-cohombro.csv y se asignó el nombre del producto.\n",
      "Se agregó la columna 'Producto' al archivo arroz-secano-mecanizado.csv y se asignó el nombre del producto.\n",
      "Se agregó la columna 'Producto' al archivo hortalizas-varias.csv y se asignó el nombre del producto.\n",
      "Se agregó la columna 'Producto' al archivo sorgo.csv y se asignó el nombre del producto.\n",
      "Se agregó la columna 'Producto' al archivo mango.csv y se asignó el nombre del producto.\n",
      "Se agregó la columna 'Producto' al archivo tomate.csv y se asignó el nombre del producto.\n",
      "Se agregó la columna 'Producto' al archivo yuca-industrial.csv y se asignó el nombre del producto.\n",
      "Se agregó la columna 'Producto' al archivo coco.csv y se asignó el nombre del producto.\n",
      "Se agregó la columna 'Producto' al archivo frutales-varios.csv y se asignó el nombre del producto.\n",
      "Se agregó la columna 'Producto' al archivo soya.csv y se asignó el nombre del producto.\n",
      "Se agregó la columna 'Producto' al archivo arroz-secano-manual-Bajo-Sinu.csv y se asignó el nombre del producto.\n",
      "Se agregó la columna 'Producto' al archivo batata.csv y se asignó el nombre del producto.\n",
      "Se agregó la columna 'Producto' al archivo maiz-blanco-tradicional.csv y se asignó el nombre del producto.\n",
      "Se agregó la columna 'Producto' al archivo berenjena.csv y se asignó el nombre del producto.\n",
      "Se agregó la columna 'Producto' al archivo limon.csv y se asignó el nombre del producto.\n",
      "Se agregó la columna 'Producto' al archivo maiz-tradicional.csv y se asignó el nombre del producto.\n",
      "Se agregó la columna 'Producto' al archivo plantas-aromaticas.csv y se asignó el nombre del producto.\n",
      "Se agregó la columna 'Producto' al archivo platano.csv y se asignó el nombre del producto.\n",
      "Se agregó la columna 'Producto' al archivo ñame.csv y se asignó el nombre del producto.\n",
      "Se agregó la columna 'Producto' al archivo naranja.csv y se asignó el nombre del producto.\n",
      "Se agregó la columna 'Producto' al archivo maracuya.csv y se asignó el nombre del producto.\n",
      "Se agregó la columna 'Producto' al archivo cilantro.csv y se asignó el nombre del producto.\n",
      "Se agregó la columna 'Producto' al archivo caucho.csv y se asignó el nombre del producto.\n",
      "Se agregó la columna 'Producto' al archivo algodon.csv y se asignó el nombre del producto.\n",
      "Se agregó la columna 'Producto' al archivo palma-aceite.csv y se asignó el nombre del producto.\n",
      "Se agregó la columna 'Producto' al archivo patilla.csv y se asignó el nombre del producto.\n",
      "Se agregó la columna 'Producto' al archivo frijol.csv y se asignó el nombre del producto.\n",
      "Se agregó la columna 'Producto' al archivo maiz-tecnificado.csv y se asignó el nombre del producto.\n",
      "Se agregó la columna 'Producto' al archivo arroz-riego.csv y se asignó el nombre del producto.\n",
      "Se agregó la columna 'Producto' al archivo piña.csv y se asignó el nombre del producto.\n"
     ]
    }
   ],
   "source": [
    "import os\n",
    "import pandas as pd\n",
    "\n",
    "# Directorio que contiene los archivos CSV\n",
    "directory = \"./\"\n",
    "\n",
    "# Obtener la lista de archivos CSV en el directorio\n",
    "csv_files = [file for file in os.listdir(directory) if file.endswith(\".csv\")]\n",
    "\n",
    "# Verificar si hay archivos CSV en el directorio\n",
    "if len(csv_files) == 0:\n",
    "    print(\"No se encontraron archivos CSV en el directorio especificado.\")\n",
    "    exit()\n",
    "\n",
    "# Procesar cada archivo CSV\n",
    "for file in csv_files:\n",
    "    file_path = os.path.join(directory, file)\n",
    "    try:\n",
    "        # Leer el archivo CSV en un DataFrame\n",
    "        df = pd.read_csv(file_path)\n",
    "        \n",
    "        # Extraer el nombre del archivo sin la extensión .csv\n",
    "        product_name = file[:-4]\n",
    "        \n",
    "        # Agregar columna \"Producto\" con el nombre del archivo\n",
    "        df[\"Producto\"] = product_name\n",
    "        \n",
    "        # Guardar el archivo CSV actualizado\n",
    "        updated_file_path = os.path.join(directory, f\"{product_name}.csv\")\n",
    "        df.to_csv(updated_file_path, index=False)\n",
    "        \n",
    "        print(f\"Se agregó la columna 'Producto' al archivo {file} y se asignó el nombre del producto.\")\n",
    "    except pd.errors.EmptyDataError:\n",
    "        print(f\"El archivo {file} está vacío y no se puede cargar.\")\n"
   ]
  },
  {
   "cell_type": "code",
   "execution_count": null,
   "id": "d8fa33a7",
   "metadata": {},
   "outputs": [],
   "source": []
  }
 ],
 "metadata": {
  "kernelspec": {
   "display_name": "Python 3 (ipykernel)",
   "language": "python",
   "name": "python3"
  },
  "language_info": {
   "codemirror_mode": {
    "name": "ipython",
    "version": 3
   },
   "file_extension": ".py",
   "mimetype": "text/x-python",
   "name": "python",
   "nbconvert_exporter": "python",
   "pygments_lexer": "ipython3",
   "version": "3.11.7"
  }
 },
 "nbformat": 4,
 "nbformat_minor": 5
}
