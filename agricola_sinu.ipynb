{
 "cells": [
  {
   "cell_type": "markdown",
   "id": "668f1f2d",
   "metadata": {
    "editable": true,
    "slideshow": {
     "slide_type": ""
    },
    "tags": []
   },
   "source": [
    "# Visualización de producción agrícola en el Bajo Sinú \n",
    "V. 3.0.1  (Para la web del Agua contando historias)"
   ]
  },
  {
   "cell_type": "code",
   "execution_count": 7,
   "id": "3bb0cc5a",
   "metadata": {},
   "outputs": [
    {
     "name": "stdout",
     "output_type": "stream",
     "text": [
      "Campos disponibles:\n",
      "Index(['Año', 'Municipio', 'Area Sembrada', 'Area Cosechada',\n",
      "       'Produccion (ton)', 'Rendimiento (ha/ton)', 'Producto'],\n",
      "      dtype='object')\n"
     ]
    },
    {
     "data": {
      "application/vnd.jupyter.widget-view+json": {
       "model_id": "50df31b7294c4ef2b2f178660e5c7f5b",
       "version_major": 2,
       "version_minor": 0
      },
      "text/plain": [
       "Dropdown(description='Variable:', options=('Area Sembrada', 'Area Cosechada', 'Produccion (ton)', 'Rendimiento…"
      ]
     },
     "metadata": {},
     "output_type": "display_data"
    },
    {
     "data": {
      "application/vnd.jupyter.widget-view+json": {
       "model_id": "bcb73544a4c842b1a78f90e7b52400db",
       "version_major": 2,
       "version_minor": 0
      },
      "text/plain": [
       "SelectMultiple(description='Productos:', options=('arroz-secano-mecanizado', 'caucho', 'maiz-tradicional', 'pi…"
      ]
     },
     "metadata": {},
     "output_type": "display_data"
    },
    {
     "data": {
      "application/vnd.jupyter.widget-view+json": {
       "model_id": "bfd661be072b4b699a114461b66117f9",
       "version_major": 2,
       "version_minor": 0
      },
      "text/plain": [
       "SelectMultiple(description='Municipios:', options=('CHIMA', 'MOMIL', 'LORICA', 'PURISIMA', 'COTORRA', nan), va…"
      ]
     },
     "metadata": {},
     "output_type": "display_data"
    },
    {
     "data": {
      "application/vnd.jupyter.widget-view+json": {
       "model_id": "702da253af9a4269b05d4104d6105ed3",
       "version_major": 2,
       "version_minor": 0
      },
      "text/plain": [
       "Dropdown(description='Index:', options=('Año', 'Municipio', 'Area Sembrada', 'Area Cosechada', 'Produccion (to…"
      ]
     },
     "metadata": {},
     "output_type": "display_data"
    },
    {
     "data": {
      "application/vnd.jupyter.widget-view+json": {
       "model_id": "2fe8f3567d294e38af2e42f4f9e6a043",
       "version_major": 2,
       "version_minor": 0
      },
      "text/plain": [
       "Dropdown(description='Eje X:', options=('Año', 'Municipio', 'Area Sembrada', 'Area Cosechada', 'Produccion (to…"
      ]
     },
     "metadata": {},
     "output_type": "display_data"
    },
    {
     "data": {
      "application/vnd.jupyter.widget-view+json": {
       "model_id": "edd564897f3949c1b02d9ce7c15b0ad6",
       "version_major": 2,
       "version_minor": 0
      },
      "text/plain": [
       "Dropdown(description='Eje Y:', options=('Año', 'Municipio', 'Area Sembrada', 'Area Cosechada', 'Produccion (to…"
      ]
     },
     "metadata": {},
     "output_type": "display_data"
    },
    {
     "data": {
      "application/vnd.jupyter.widget-view+json": {
       "model_id": "eee28d0c38af4015969fcfa72b65f8e3",
       "version_major": 2,
       "version_minor": 0
      },
      "text/plain": [
       "Dropdown(description='Tipo de gráfico:', options=('bar', 'line', 'scatter'), value='bar')"
      ]
     },
     "metadata": {},
     "output_type": "display_data"
    },
    {
     "data": {
      "application/vnd.jupyter.widget-view+json": {
       "model_id": "341bf0d640174bbeba0e77e2327d9968",
       "version_major": 2,
       "version_minor": 0
      },
      "text/plain": [
       "Button(description='Exportar tabla', style=ButtonStyle())"
      ]
     },
     "metadata": {},
     "output_type": "display_data"
    },
    {
     "data": {
      "application/vnd.jupyter.widget-view+json": {
       "model_id": "8ee12464d86346a8af0ca0a4b2e4abd0",
       "version_major": 2,
       "version_minor": 0
      },
      "text/plain": [
       "Output()"
      ]
     },
     "metadata": {},
     "output_type": "display_data"
    },
    {
     "data": {
      "application/vnd.jupyter.widget-view+json": {
       "model_id": "6a168967974940c997ba24aa27720fc3",
       "version_major": 2,
       "version_minor": 0
      },
      "text/plain": [
       "Output()"
      ]
     },
     "metadata": {},
     "output_type": "display_data"
    }
   ],
   "source": [
    "# V.3.0.1\n",
    "#!pip install pandas\n",
    "#!pip install plotly\n",
    "#!pip install ipywidgets\n",
    "#!pip install IPython\n",
    "#!pip install markdown\n",
    "#!pip install voila\n",
    "#!pip install tabulate\n",
    "\n",
    "import os\n",
    "import pandas as pd\n",
    "import plotly.graph_objects as go\n",
    "import ipywidgets as widgets\n",
    "from IPython.display import display, HTML\n",
    "#import voila\n",
    "import markdown\n",
    "\n",
    "# Directorio que contiene los archivos CSV\n",
    "directory = \"./\"\n",
    "\n",
    "# Obtener la lista de archivos CSV en el directorio\n",
    "csv_files = [file for file in os.listdir(directory) if file.endswith(\".csv\")]\n",
    "\n",
    "# Verificar si hay archivos CSV en el directorio\n",
    "if len(csv_files) == 0:\n",
    "    print(\"No se encontraron archivos CSV en el directorio especificado.\")\n",
    "    exit()\n",
    "\n",
    "# Cargar los datos de los archivos CSV en un DataFrame\n",
    "dfs = []\n",
    "\n",
    "for file in csv_files:\n",
    "    file_path = os.path.join(directory, file)\n",
    "    try:\n",
    "        df = pd.read_csv(file_path)\n",
    "        # Agregar la columna \"Producto\" con el nombre del archivo sin extensión\n",
    "        df[\"Producto\"] = os.path.splitext(file)[0]\n",
    "        dfs.append(df)\n",
    "    except pd.errors.EmptyDataError:\n",
    "        print(f\"El archivo {file} está vacío y no se puede cargar.\")\n",
    "\n",
    "# Verificar si se cargaron datos en el DataFrame\n",
    "if len(dfs) == 0:\n",
    "    print(\"No se pudo cargar ningún archivo CSV con datos.\")\n",
    "    exit()\n",
    "\n",
    "# Concatenar los DataFrames en uno solo\n",
    "data = pd.concat(dfs)\n",
    "\n",
    "# Mostrar los campos disponibles\n",
    "fields = data.columns\n",
    "print(\"Campos disponibles:\")\n",
    "print(fields)\n",
    "\n",
    "# Obtener la lista de productos\n",
    "product_list = data[\"Producto\"].unique()\n",
    "\n",
    "# Obtener la lista de municipios\n",
    "municipio_list = data[\"Municipio\"].unique()\n",
    "\n",
    "# Crear las listas desplegables para seleccionar las variables y el tipo de gráfico\n",
    "variable_dropdown = widgets.Dropdown(options=[\"Area Sembrada\", \"Area Cosechada\", \"Produccion (ton)\", \"Rendimiento (ha/ton)\"], description=\"Variable:\")\n",
    "product_dropdown = widgets.SelectMultiple(options=product_list, description=\"Productos:\")\n",
    "municipio_dropdown = widgets.SelectMultiple(options=municipio_list, description=\"Municipios:\")\n",
    "index_dropdown = widgets.Dropdown(options=fields, description=\"Index:\")\n",
    "x_axis_dropdown = widgets.Dropdown(options=fields, description=\"Eje X:\")\n",
    "y_axis_dropdown = widgets.Dropdown(options=fields, description=\"Eje Y:\")\n",
    "chart_type_dropdown = widgets.Dropdown(options=[\"bar\", \"line\", \"scatter\"], description=\"Tipo de gráfico:\")\n",
    "\n",
    "# Crear las salidas HTML para la tabla y el gráfico\n",
    "table_output = widgets.Output()\n",
    "chart_output = widgets.Output()\n",
    "\n",
    "# Función para generar y mostrar la tabla y el gráfico seleccionados\n",
    "def generate_output(change):\n",
    "    global pivot_table\n",
    "    variable = variable_dropdown.value\n",
    "    chart_type = chart_type_dropdown.value\n",
    "    products_selected = product_dropdown.value\n",
    "    municipios_selected = municipio_dropdown.value\n",
    "    index_field = index_dropdown.value\n",
    "    x_field = x_axis_dropdown.value\n",
    "    y_field = y_axis_dropdown.value\n",
    "    \n",
    "    # Filtrar el DataFrame por los productos seleccionados\n",
    "    filtered_data = data[data[\"Producto\"].isin(products_selected)]\n",
    "    \n",
    "    # Crear la tabla de pivote\n",
    "    pivot_table = pd.pivot_table(filtered_data, values=variable, index=index_field, columns=[\"Producto\", \"Municipio\"])\n",
    "    \n",
    "    \n",
    "    # Limpiar las salidas HTML\n",
    "    table_output.clear_output()\n",
    "    chart_output.clear_output()\n",
    "    \n",
    "    # Generar y mostrar la tabla\n",
    "    with table_output:\n",
    "        display(HTML(\"<h2>Tabla</h2>\"))\n",
    "        display(pivot_table)\n",
    "\n",
    "               \n",
    "    # Generar y mostrar el gráfico\n",
    "    with chart_output:\n",
    "        try:\n",
    "            fig = go.Figure()\n",
    "            \n",
    "            if chart_type == \"bar\":\n",
    "                for product in products_selected:\n",
    "                    for municipio in municipios_selected:\n",
    "                        if product in pivot_table.columns.get_level_values(\"Producto\") and municipio in pivot_table.columns.get_level_values(\"Municipio\"):\n",
    "                            fig.add_trace(go.Bar(\n",
    "                                x=pivot_table.index,\n",
    "                                y=pivot_table[(product, municipio)],\n",
    "                                name=f\"{product} ({municipio})\"\n",
    "                            ))\n",
    "            else:\n",
    "                for product in products_selected:\n",
    "                    for municipio in municipios_selected:\n",
    "                        if product in pivot_table.columns.get_level_values(\"Producto\") and municipio in pivot_table.columns.get_level_values(\"Municipio\"):\n",
    "                            fig.add_trace(go.Scatter(\n",
    "                                x=pivot_table[x_field][(product, municipio)],\n",
    "                                y=pivot_table[y_field][(product, municipio)],\n",
    "                                mode=\"lines+markers\",\n",
    "                                name=f\"{product} ({municipio})\"\n",
    "                            ))\n",
    "\n",
    "            fig.update_layout(\n",
    "                title=f\"Gráfico de {chart_type} de {variable} por {x_field} y {y_field}\",\n",
    "                xaxis=dict(title=x_field),\n",
    "                yaxis=dict(title=y_field)\n",
    "            )\n",
    "\n",
    "            fig.show()\n",
    "        except ValueError as e:\n",
    "            print(f\"No se pudo generar la gráfica. Error: {str(e)}\")\n",
    "\n",
    "            \n",
    "# Asignar la función de generación de tabla y gráfico al evento \"change\" de los dropdown menús\n",
    "variable_dropdown.observe(generate_output, 'value')\n",
    "product_dropdown.observe(generate_output, 'value')\n",
    "municipio_dropdown.observe(generate_output, 'value')\n",
    "index_dropdown.observe(generate_output, 'value')\n",
    "x_axis_dropdown.observe(generate_output, 'value')\n",
    "y_axis_dropdown.observe(generate_output, 'value')\n",
    "chart_type_dropdown.observe(generate_output, 'value')\n",
    "\n",
    "\n",
    "# Función para exportar la tabla como archivo Markdown\n",
    "def export_table_to_markdown(button):\n",
    "    if pivot_table is None:\n",
    "        print(\"No se ha generado ninguna tabla todavía.\")\n",
    "        return\n",
    "\n",
    "    # Convertir la tabla a Markdown y guardarla en un archivo\n",
    "    table = pivot_table.to_markdown()\n",
    "    with open(\"tabla.md\", \"w\") as f:\n",
    "        f.write(table)\n",
    "    \n",
    "    print(\"La tabla se ha exportado exitosamente como archivo Markdown.\")\n",
    "\n",
    "\n",
    "\n",
    "# Botón para exportar la tabla\n",
    "export_button = widgets.Button(description=\"Exportar tabla\")\n",
    "export_button.on_click(export_table_to_markdown)    \n",
    "\n",
    "\n",
    "# Mostrar los dropdown menús, el botón y la salida de la tabla\n",
    "display(variable_dropdown, product_dropdown, municipio_dropdown, index_dropdown, x_axis_dropdown, y_axis_dropdown, chart_type_dropdown)\n",
    "display(export_button)\n",
    "display(table_output)\n",
    "display(chart_output)\n",
    "\n",
    "\n"
   ]
  },
  {
   "cell_type": "code",
   "execution_count": null,
   "id": "322e0417-4ca8-4795-8fd6-9d0c360f9bf2",
   "metadata": {},
   "outputs": [],
   "source": []
  }
 ],
 "metadata": {
  "kernelspec": {
   "display_name": "Python 3 (ipykernel)",
   "language": "python",
   "name": "python3"
  },
  "language_info": {
   "codemirror_mode": {
    "name": "ipython",
    "version": 3
   },
   "file_extension": ".py",
   "mimetype": "text/x-python",
   "name": "python",
   "nbconvert_exporter": "python",
   "pygments_lexer": "ipython3",
   "version": "3.11.7"
  }
 },
 "nbformat": 4,
 "nbformat_minor": 5
}
