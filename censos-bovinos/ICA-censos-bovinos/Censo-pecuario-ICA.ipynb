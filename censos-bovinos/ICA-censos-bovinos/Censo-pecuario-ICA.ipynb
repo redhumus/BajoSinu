{
 "cells": [
  {
   "cell_type": "markdown",
   "id": "bcf75495",
   "metadata": {},
   "source": [
    "# Censo pecuario ICA 2022\n",
    "\n",
    "## V. 0.3"
   ]
  },
  {
   "cell_type": "code",
   "execution_count": 1,
   "id": "73e5c6c9",
   "metadata": {},
   "outputs": [
    {
     "name": "stdout",
     "output_type": "stream",
     "text": [
      "Campos disponibles:\n",
      "['DEPARTAMENTO', 'MUNICIPIO', 'CODIGO MUNICIPIO', 'TERNERAS < 1 AÑO', 'TERNEROS < 1 AÑO', 'HEMBRAS 1 - 2 AÑOS', 'MACHOS 1 - 2 AÑOS', 'HEMBRAS 2 - 3 AÑOS', 'MACHOS 2 - 3 AÑOS', 'HEMBRAS > 3 AÑOS', 'MACHOS > 3 AÑOS', 'TOTAL BOVINOS', ' No DE FINCAS 1 A 50', ' No DE FINCAS 51 A 100', ' No DE FINCAS 101 A 500', ' No DE FINCAS 501 O MAS', 'TOTAL FINCAS CON BOVINOS']\n"
     ]
    },
    {
     "data": {
      "application/vnd.jupyter.widget-view+json": {
       "model_id": "55609f100dce42c58be66350eafaf099",
       "version_major": 2,
       "version_minor": 0
      },
      "text/plain": [
       "Dropdown(description='Index:', options=('DEPARTAMENTO', 'MUNICIPIO', 'CODIGO MUNICIPIO', 'TERNERAS < 1 AÑO', '…"
      ]
     },
     "metadata": {},
     "output_type": "display_data"
    },
    {
     "data": {
      "application/vnd.jupyter.widget-view+json": {
       "model_id": "c34e5d53ecd14653ab2b3a01af00dbba",
       "version_major": 2,
       "version_minor": 0
      },
      "text/plain": [
       "Dropdown(description='Variable:', options=('DEPARTAMENTO', 'MUNICIPIO', 'CODIGO MUNICIPIO', 'TERNERAS < 1 AÑO'…"
      ]
     },
     "metadata": {},
     "output_type": "display_data"
    },
    {
     "data": {
      "application/vnd.jupyter.widget-view+json": {
       "model_id": "445f24209471493992c45fc7fc918c9b",
       "version_major": 2,
       "version_minor": 0
      },
      "text/plain": [
       "Dropdown(description='Eje X:', options=('DEPARTAMENTO', 'MUNICIPIO', 'CODIGO MUNICIPIO', 'TERNERAS < 1 AÑO', '…"
      ]
     },
     "metadata": {},
     "output_type": "display_data"
    },
    {
     "data": {
      "application/vnd.jupyter.widget-view+json": {
       "model_id": "a8738eddabea4b8c8d8e2cbca02a0faf",
       "version_major": 2,
       "version_minor": 0
      },
      "text/plain": [
       "Dropdown(description='Eje Y:', options=('DEPARTAMENTO', 'MUNICIPIO', 'CODIGO MUNICIPIO', 'TERNERAS < 1 AÑO', '…"
      ]
     },
     "metadata": {},
     "output_type": "display_data"
    },
    {
     "data": {
      "application/vnd.jupyter.widget-view+json": {
       "model_id": "25f0ef59678f4c71bd9b09871b39f98f",
       "version_major": 2,
       "version_minor": 0
      },
      "text/plain": [
       "Dropdown(description='Tipo de gráfico:', options=('bar', 'line', 'scatter'), value='bar')"
      ]
     },
     "metadata": {},
     "output_type": "display_data"
    },
    {
     "data": {
      "application/vnd.jupyter.widget-view+json": {
       "model_id": "62c6a94616e54c3b9c1a7984fd9af55b",
       "version_major": 2,
       "version_minor": 0
      },
      "text/plain": [
       "Dropdown(description='Departamento:', options=('ANTIOQUIA', 'ATLANTICO', 'BOGOTA D.C.', 'BOLIVAR', 'BOYACA', '…"
      ]
     },
     "metadata": {},
     "output_type": "display_data"
    },
    {
     "data": {
      "application/vnd.jupyter.widget-view+json": {
       "model_id": "72a8622a3e764524a45a2af2cc3ee9bb",
       "version_major": 2,
       "version_minor": 0
      },
      "text/plain": [
       "SelectMultiple(description='Municipio:', options=(), value=())"
      ]
     },
     "metadata": {},
     "output_type": "display_data"
    },
    {
     "data": {
      "application/vnd.jupyter.widget-view+json": {
       "model_id": "83918ada8aa447d685126e61fbb65174",
       "version_major": 2,
       "version_minor": 0
      },
      "text/plain": [
       "Output()"
      ]
     },
     "metadata": {},
     "output_type": "display_data"
    },
    {
     "data": {
      "application/vnd.jupyter.widget-view+json": {
       "model_id": "a238cdcd379a43f2aaec8313bd538417",
       "version_major": 2,
       "version_minor": 0
      },
      "text/plain": [
       "Output()"
      ]
     },
     "metadata": {},
     "output_type": "display_data"
    }
   ],
   "source": [
    "# V. 0.3\n",
    "\n",
    "import os\n",
    "import pandas as pd\n",
    "import plotly.graph_objects as go\n",
    "import ipywidgets as widgets\n",
    "from IPython.display import display, HTML, Markdown\n",
    "import io\n",
    "\n",
    "# Directorio que contiene los archivos CSV\n",
    "directory = \"./\"\n",
    "\n",
    "# Obtener la lista de archivos CSV en el directorio\n",
    "csv_files = [file for file in os.listdir(directory) if file.endswith(\".csv\")]\n",
    "\n",
    "# Verificar si hay archivos CSV en el directorio\n",
    "if len(csv_files) == 0:\n",
    "    print(\"No se encontraron archivos CSV en el directorio especificado.\")\n",
    "    exit()\n",
    "\n",
    "# Cargar los datos de los archivos CSV en un DataFrame\n",
    "dfs = []\n",
    "\n",
    "for file in csv_files:\n",
    "    file_path = os.path.join(directory, file)\n",
    "    try:\n",
    "        df = pd.read_csv(file_path)\n",
    "        dfs.append(df)\n",
    "    except pd.errors.EmptyDataError:\n",
    "        print(f\"El archivo {file} está vacío y no se puede cargar.\")\n",
    "\n",
    "# Verificar si se cargaron datos en el DataFrame\n",
    "if len(dfs) == 0:\n",
    "    print(\"No se pudo cargar ningún archivo CSV con datos.\")\n",
    "    exit()\n",
    "\n",
    "# Concatenar los DataFrames en uno solo\n",
    "data = pd.concat(dfs)\n",
    "\n",
    "# Mostrar los campos disponibles\n",
    "fields = data.columns.tolist()\n",
    "print(\"Campos disponibles:\")\n",
    "print(fields)\n",
    "\n",
    "# Crear los dropdown menus para seleccionar los campos\n",
    "index_dropdown = widgets.Dropdown(options=fields, description=\"Index:\")\n",
    "variable_dropdown = widgets.Dropdown(options=fields, description=\"Variable:\")\n",
    "x_axis_dropdown = widgets.Dropdown(options=fields, description=\"Eje X:\")\n",
    "y_axis_dropdown = widgets.Dropdown(options=fields, description=\"Eje Y:\")\n",
    "chart_type_dropdown = widgets.Dropdown(options=[\"bar\", \"line\", \"scatter\"], description=\"Tipo de gráfico:\")\n",
    "\n",
    "# Filtrar el campo \"DEPARTAMENTO\" para obtener las opciones del dropdown de MUNICIPIO\n",
    "departamento_options = data[\"DEPARTAMENTO\"].unique()\n",
    "\n",
    "# Crear el dropdown menu para seleccionar el campo \"DEPARTAMENTO\"\n",
    "departamento_dropdown = widgets.Dropdown(options=departamento_options, description=\"Departamento:\")\n",
    "\n",
    "# Crear el dropdown menu para seleccionar el campo \"MUNICIPIO\" basado en el filtro del campo \"DEPARTAMENTO\"\n",
    "municipio_dropdown = widgets.SelectMultiple(description=\"Municipio:\")\n",
    "\n",
    "# Función para actualizar las opciones del dropdown de MUNICIPIO basado en el filtro del dropdown de DEPARTAMENTO\n",
    "def update_municipio_options(change):\n",
    "    selected_departamentos = [departamento_dropdown.value]\n",
    "    municipio_options = data[data[\"DEPARTAMENTO\"].isin(selected_departamentos)][\"MUNICIPIO\"].unique()\n",
    "    municipio_dropdown.options = municipio_options\n",
    "\n",
    "# Asignar la función de actualización de opciones al evento \"value\" del dropdown de DEPARTAMENTO\n",
    "departamento_dropdown.observe(update_municipio_options, 'value')\n",
    "\n",
    "# Crear las salidas HTML para la tabla y el gráfico\n",
    "table_output = widgets.Output()\n",
    "chart_output = widgets.Output()\n",
    "\n",
    "# Función para generar y mostrar la tabla y el gráfico seleccionados\n",
    "def generate_output(change):\n",
    "    # Obtener las selecciones realizadas\n",
    "    selected_departamentos = [departamento_dropdown.value]\n",
    "    selected_municipios = list(municipio_dropdown.value)\n",
    "    \n",
    "    # Obtener los campos seleccionados\n",
    "    index_field = index_dropdown.value\n",
    "    variable_field = variable_dropdown.value\n",
    "    x_field = x_axis_dropdown.value\n",
    "    y_field = y_axis_dropdown.value\n",
    "    chart_type = chart_type_dropdown.value\n",
    "    \n",
    "    # Filtrar los datos basado en las selecciones realizadas\n",
    "    filtered_data = data[data[\"DEPARTAMENTO\"].isin(selected_departamentos) & data[\"MUNICIPIO\"].isin(selected_municipios)]\n",
    "    \n",
    "    # Limpiar las salidas HTML\n",
    "    table_output.clear_output()\n",
    "    chart_output.clear_output()\n",
    "    \n",
    "    # Generar y mostrar la tabla\n",
    "    with table_output:\n",
    "        display(HTML(\"<h2>Tabla</h2>\"))\n",
    "        display(filtered_data)\n",
    "        \n",
    "        # Generar el contenido de la tabla en formato markdown\n",
    "        markdown_content = filtered_data.to_markdown()\n",
    "        \n",
    "        # Crear el widget de Textarea para mostrar el contenido en formato markdown\n",
    "        textarea_widget = widgets.Textarea(value=markdown_content, layout={'height': '100%', 'width': '100%'})\n",
    "        \n",
    "        # Crear la función para crear un enlace de descarga\n",
    "        def create_download_link(content, filename):\n",
    "            buffer = io.BytesIO(content.encode())\n",
    "            download_link = widgets.Button(description=\"Descargar\", layout={'width': 'auto'})\n",
    "            download_link.style.button_color = 'lightgreen'\n",
    "            download_link.style.font_weight = 'bold'\n",
    "\n",
    "            def download_table(_):\n",
    "                with open(filename, 'wb') as f:\n",
    "                    f.write(buffer.getbuffer())\n",
    "\n",
    "            download_link.on_click(download_table)\n",
    "            return download_link\n",
    "        \n",
    "        # Mostrar el widget de Textarea\n",
    "        display(textarea_widget)\n",
    "        \n",
    "        # Crear y mostrar el enlace de descarga\n",
    "        download_link = create_download_link(markdown_content, filename=\"tabla.md\")\n",
    "        display(download_link)\n",
    "    \n",
    "    # Generar y mostrar el gráfico\n",
    "    with chart_output:\n",
    "        try:\n",
    "            fig = go.Figure()\n",
    "            \n",
    "            if chart_type == \"bar\":\n",
    "                fig.add_trace(go.Bar(\n",
    "                    x=filtered_data[x_field],\n",
    "                    y=filtered_data[y_field],\n",
    "                    name=f\"{y_field} ({x_field})\"\n",
    "                ))\n",
    "            elif chart_type == \"line\":\n",
    "                fig.add_trace(go.Scatter(\n",
    "                    x=filtered_data[x_field],\n",
    "                    y=filtered_data[y_field],\n",
    "                    mode=\"lines\",\n",
    "                    name=f\"{y_field} ({x_field})\"\n",
    "                ))\n",
    "            elif chart_type == \"scatter\":\n",
    "                fig.add_trace(go.Scatter(\n",
    "                    x=filtered_data[x_field],\n",
    "                    y=filtered_data[y_field],\n",
    "                    mode=\"markers\",\n",
    "                    name=f\"{y_field} ({x_field})\"\n",
    "                ))\n",
    "\n",
    "            fig.update_layout(\n",
    "                title=f\"Gráfico de {chart_type} de {y_field} por {x_field}\",\n",
    "                xaxis=dict(title=x_field),\n",
    "                yaxis=dict(title=y_field)\n",
    "            )\n",
    "\n",
    "            fig.show()\n",
    "        except ValueError as e:\n",
    "            print(f\"No se pudo generar la gráfica. Error: {str(e)}\")\n",
    "\n",
    "# Asignar la función de generación de tabla y gráfico al evento \"change\" de los dropdown menus\n",
    "index_dropdown.observe(generate_output, 'value')\n",
    "variable_dropdown.observe(generate_output, 'value')\n",
    "x_axis_dropdown.observe(generate_output, 'value')\n",
    "y_axis_dropdown.observe(generate_output, 'value')\n",
    "chart_type_dropdown.observe(generate_output, 'value')\n",
    "departamento_dropdown.observe(generate_output, 'value')\n",
    "municipio_dropdown.observe(generate_output, 'value')\n",
    "\n",
    "# Mostrar los dropdown menus y las salidas HTML\n",
    "display(index_dropdown, variable_dropdown, x_axis_dropdown, y_axis_dropdown, chart_type_dropdown)\n",
    "display(departamento_dropdown, municipio_dropdown)\n",
    "display(table_output)\n",
    "display(chart_output)\n"
   ]
  },
  {
   "cell_type": "code",
   "execution_count": null,
   "id": "a6941b44",
   "metadata": {},
   "outputs": [],
   "source": []
  },
  {
   "cell_type": "code",
   "execution_count": null,
   "id": "54da7af4",
   "metadata": {},
   "outputs": [],
   "source": []
  }
 ],
 "metadata": {
  "kernelspec": {
   "display_name": "Python 3 (ipykernel)",
   "language": "python",
   "name": "python3"
  },
  "language_info": {
   "codemirror_mode": {
    "name": "ipython",
    "version": 3
   },
   "file_extension": ".py",
   "mimetype": "text/x-python",
   "name": "python",
   "nbconvert_exporter": "python",
   "pygments_lexer": "ipython3",
   "version": "3.11.6"
  }
 },
 "nbformat": 4,
 "nbformat_minor": 5
}
