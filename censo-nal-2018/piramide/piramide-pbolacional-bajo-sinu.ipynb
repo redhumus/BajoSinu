{
 "cells": [
  {
   "cell_type": "code",
   "execution_count": null,
   "id": "9197bb15",
   "metadata": {},
   "outputs": [],
   "source": [
    "# Pirámide V 0.5"
   ]
  },
  {
   "cell_type": "code",
   "execution_count": null,
   "id": "cfa46594",
   "metadata": {},
   "outputs": [],
   "source": [
    "import pandas as pd\n",
    "import plotly.graph_objects as go\n",
    "\n",
    "# Cargar los datos del archivo CSV\n",
    "data = pd.read_csv(\"proyeccion-poblacional-2023-dane-limpio.csv\")\n",
    "\n",
    "# Filtrar los datos para obtener las columnas relevantes\n",
    "columns = ['ÁREA GEOGRÁFICA'] + [f'Hombres_{i}' for i in range(85)] + [f'Mujeres_{i}' for i in range(85)]\n",
    "filtered_data = data[columns]\n",
    "\n",
    "# Agrupar los datos por zona geográfica\n",
    "grouped_data = filtered_data.groupby('ÁREA GEOGRÁFICA').sum()\n",
    "\n",
    "# Obtener las edades para el eje y\n",
    "ages = list(range(0, 85))\n",
    "\n",
    "# Obtener los datos de hombres y mujeres para cada zona geográfica\n",
    "urban_data = grouped_data.loc['Cabecera Municipal']\n",
    "rural_data = grouped_data.loc['Centros Poblados y Rural Disperso']\n",
    "\n",
    "# Crear las barras para los hombres y mujeres en la zona urbana\n",
    "fig = go.Figure()\n",
    "fig.add_trace(go.Bar(y=ages, x=urban_data[:85], orientation='h', name='Hombres (Urbana)', marker_color='blue'))\n",
    "fig.add_trace(go.Bar(y=ages, x=-urban_data[85:], orientation='h', name='Mujeres (Urbana)', marker_color='lightblue'))\n",
    "\n",
    "# Crear las barras para los hombres y mujeres en la zona rural\n",
    "fig.add_trace(go.Bar(y=ages, x=-rural_data[:85], orientation='h', name='Hombres (Rural)', marker_color='red'))\n",
    "fig.add_trace(go.Bar(y=ages, x=rural_data[85:], orientation='h', name='Mujeres (Rural)', marker_color='pink'))\n",
    "\n",
    "# Configurar el estilo de la pirámide\n",
    "fig.update_layout(\n",
    "    title='Pirámide Poblacional',\n",
    "    xaxis_title='Población',\n",
    "    yaxis_title='Edad',\n",
    "    barmode='overlay',\n",
    "    bargap=0.1,\n",
    "    bargroupgap=0.05,\n",
    "    yaxis=dict(autorange='reversed'),\n",
    "    legend=dict(orientation='h', yanchor='bottom', y=1.02, xanchor='right', x=1),\n",
    "    height=600,\n",
    "    width=800\n",
    ")\n",
    "\n",
    "# Mostrar la pirámide poblacional interactiva\n",
    "fig.show()\n"
   ]
  }
 ],
 "metadata": {
  "kernelspec": {
   "display_name": "Python 3 (ipykernel)",
   "language": "python",
   "name": "python3"
  },
  "language_info": {
   "codemirror_mode": {
    "name": "ipython",
    "version": 3
   },
   "file_extension": ".py",
   "mimetype": "text/x-python",
   "name": "python",
   "nbconvert_exporter": "python",
   "pygments_lexer": "ipython3",
   "version": "3.10.10"
  }
 },
 "nbformat": 4,
 "nbformat_minor": 5
}
