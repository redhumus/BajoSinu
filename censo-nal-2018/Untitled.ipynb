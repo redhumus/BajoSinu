{
 "cells": [
  {
   "cell_type": "code",
   "execution_count": null,
   "id": "40ff7ae6",
   "metadata": {},
   "outputs": [],
   "source": []
  },
  {
   "cell_type": "code",
   "execution_count": null,
   "id": "f5bbd3c4",
   "metadata": {},
   "outputs": [],
   "source": [
    "import pandas as pd\n",
    "import matplotlib.pyplot as plt\n",
    "\n",
    "# Cargar los datos del archivo CSV\n",
    "data = pd.read_csv(\"archivo.csv\")\n",
    "\n",
    "# Filtrar los datos para obtener las columnas relevantes\n",
    "columns = ['ÁREA GEOGRÁFICA'] + [f'Hombres_{i}' for i in range(86)] + [f'Mujeres_{i}' for i in range(86)]\n",
    "filtered_data = data[columns]\n",
    "\n",
    "# Agrupar los datos por zona geográfica\n",
    "grouped_data = filtered_data.groupby('ÁREA GEOGRÁFICA').sum()\n",
    "\n",
    "# Obtener las edades para el eje x\n",
    "ages = list(range(0, 86))\n",
    "\n",
    "# Obtener los datos de hombres y mujeres para cada zona geográfica\n",
    "urban_data = grouped_data.loc['Urbana']\n",
    "rural_data = grouped_data.loc['Rural']\n",
    "\n",
    "# Crear la figura de la pirámide poblacional\n",
    "fig, ax = plt.subplots(figsize=(10, 6))\n",
    "\n",
    "# Generar las barras para los hombres\n",
    "ax.barh(ages, urban_data[:86], align='center', height=0.5, color='blue', label='Hombres (Urbana)')\n",
    "ax.barh(ages, -rural_data[:86], align='center', height=0.5, color='red', label='Hombres (Rural)')\n",
    "\n",
    "# Generar las barras para las mujeres\n",
    "ax.barh(ages, urban_data[86:], align='center', height=0.5, color='lightblue', label='Mujeres (Urbana)')\n",
    "ax.barh(ages, -rural_data[86:], align='center', height=0.5, color='pink', label='Mujeres (Rural)')\n",
    "\n",
    "# Configurar el estilo de la pirámide\n",
    "ax.set_xlabel('Población')\n",
    "ax.set_ylabel('Edad')\n",
    "ax.set_title('Pirámide Poblacional')\n",
    "ax.set_yticks(ages)\n",
    "ax.set_yticklabels(ages)\n",
    "ax.legend(loc='lower right')\n",
    "\n",
    "# Mostrar la pirámide poblacional\n",
    "plt.show()\n"
   ]
  }
 ],
 "metadata": {
  "kernelspec": {
   "display_name": "Python 3 (ipykernel)",
   "language": "python",
   "name": "python3"
  },
  "language_info": {
   "codemirror_mode": {
    "name": "ipython",
    "version": 3
   },
   "file_extension": ".py",
   "mimetype": "text/x-python",
   "name": "python",
   "nbconvert_exporter": "python",
   "pygments_lexer": "ipython3",
   "version": "3.10.10"
  }
 },
 "nbformat": 4,
 "nbformat_minor": 5
}
