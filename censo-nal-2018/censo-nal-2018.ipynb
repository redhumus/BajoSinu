{
 "cells": [
  {
   "cell_type": "markdown",
   "id": "bcf75495",
   "metadata": {},
   "source": [
    "# Censo Nal DANE 2018\n",
    "\n",
    "## Basado en Pecuario V. 0.3"
   ]
  },
  {
   "cell_type": "code",
   "execution_count": 3,
   "id": "73e5c6c9",
   "metadata": {},
   "outputs": [
    {
     "name": "stdout",
     "output_type": "stream",
     "text": [
      "Campos disponibles:\n",
      "['TIPO_REG', 'U_DPTO', 'U_MPIO', 'UA_CLASE', 'COD_ENCUESTAS', 'U_VIVIENDA', 'P_NROHOG', 'P_NRO_PER', 'P_SEXO', 'P_EDADR', 'P_PARENTESCOR', 'PA1_GRP_ETNIC', 'PA11_COD_ETNIA', 'PA12_CLAN', 'PA21_COD_VITSA', 'PA22_COD_KUMPA', 'PA_HABLA_LENG', 'PA1_ENTIENDE', 'PB_OTRAS_LENG', 'PB1_QOTRAS_LENG', 'PA_LUG_NAC', 'PA_VIVIA_5ANOS', 'PA_VIVIA_1ANO', 'P_ENFERMO', 'P_QUEHIZO_PPAL', 'PA_LO_ATENDIERON', 'PA1_CALIDAD_SERV', 'CONDICION_FISICA', 'P_ALFABETA', 'PA_ASISTENCIA', 'P_NIVEL_ANOSR', 'P_TRABAJO', 'P_EST_CIVIL', 'PA_HNV', 'PA1_THNV', 'PA2_HNVH', 'PA3_HNVM', 'PA_HNVS', 'PA1_THSV', 'PA2_HSVH', 'PA3_HSVM', 'PA_HFC', 'PA1_THFC', 'PA2_HFCH', 'PA3_HFCM', 'PA_UHNV', 'PA1_MES_UHNV', 'PA2_ANO_UHNV']\n"
     ]
    },
    {
     "data": {
      "application/vnd.jupyter.widget-view+json": {
       "model_id": "3a11a8c65c7d4728a7a70a774539c6a9",
       "version_major": 2,
       "version_minor": 0
      },
      "text/plain": [
       "Dropdown(description='Index:', options=('TIPO_REG', 'U_DPTO', 'U_MPIO', 'UA_CLASE', 'COD_ENCUESTAS', 'U_VIVIEN…"
      ]
     },
     "metadata": {},
     "output_type": "display_data"
    },
    {
     "data": {
      "application/vnd.jupyter.widget-view+json": {
       "model_id": "a7f1021aac3c4f0e8ff81b75767f0213",
       "version_major": 2,
       "version_minor": 0
      },
      "text/plain": [
       "Dropdown(description='Variable:', options=('TIPO_REG', 'U_DPTO', 'U_MPIO', 'UA_CLASE', 'COD_ENCUESTAS', 'U_VIV…"
      ]
     },
     "metadata": {},
     "output_type": "display_data"
    },
    {
     "data": {
      "application/vnd.jupyter.widget-view+json": {
       "model_id": "77e184568d14404194c79500b81b3763",
       "version_major": 2,
       "version_minor": 0
      },
      "text/plain": [
       "Dropdown(description='Eje X:', options=('TIPO_REG', 'U_DPTO', 'U_MPIO', 'UA_CLASE', 'COD_ENCUESTAS', 'U_VIVIEN…"
      ]
     },
     "metadata": {},
     "output_type": "display_data"
    },
    {
     "data": {
      "application/vnd.jupyter.widget-view+json": {
       "model_id": "b5e03cf8d5dc44479f647a79273b8c34",
       "version_major": 2,
       "version_minor": 0
      },
      "text/plain": [
       "Dropdown(description='Eje Y:', options=('TIPO_REG', 'U_DPTO', 'U_MPIO', 'UA_CLASE', 'COD_ENCUESTAS', 'U_VIVIEN…"
      ]
     },
     "metadata": {},
     "output_type": "display_data"
    },
    {
     "data": {
      "application/vnd.jupyter.widget-view+json": {
       "model_id": "f8b32538895243e592edb1682f050b17",
       "version_major": 2,
       "version_minor": 0
      },
      "text/plain": [
       "Dropdown(description='Tipo de gráfico:', options=('bar', 'line', 'scatter'), value='bar')"
      ]
     },
     "metadata": {},
     "output_type": "display_data"
    },
    {
     "data": {
      "application/vnd.jupyter.widget-view+json": {
       "model_id": "d5e834ea96c84b268c9f3d28350fa3ca",
       "version_major": 2,
       "version_minor": 0
      },
      "text/plain": [
       "Dropdown(description='Municipio:', options=(1, 68, 79, 90, 162, 168, 182, 189, 300, 350, 417, 419, 464, 466, 5…"
      ]
     },
     "metadata": {},
     "output_type": "display_data"
    },
    {
     "data": {
      "application/vnd.jupyter.widget-view+json": {
       "model_id": "6efaf2a5bbe7484882244e81139ea4a3",
       "version_major": 2,
       "version_minor": 0
      },
      "text/plain": [
       "SelectMultiple(description='Zona:', options=(), value=())"
      ]
     },
     "metadata": {},
     "output_type": "display_data"
    },
    {
     "data": {
      "application/vnd.jupyter.widget-view+json": {
       "model_id": "4b24b3ee1a584b22a8eeff46310d449a",
       "version_major": 2,
       "version_minor": 0
      },
      "text/plain": [
       "Output()"
      ]
     },
     "metadata": {},
     "output_type": "display_data"
    },
    {
     "data": {
      "application/vnd.jupyter.widget-view+json": {
       "model_id": "b724fcf866d64bdb8355a6ec442b34ce",
       "version_major": 2,
       "version_minor": 0
      },
      "text/plain": [
       "Output()"
      ]
     },
     "metadata": {},
     "output_type": "display_data"
    }
   ],
   "source": [
    "# Tablas y gráficos genéricos a partir de archivos .csv en la carpeta de trabajo de censo pecuario\n",
    "# V. 0.3\n",
    "\n",
    "\n",
    "import os\n",
    "import pandas as pd\n",
    "import plotly.graph_objects as go\n",
    "import ipywidgets as widgets\n",
    "from IPython.display import display, HTML, Markdown\n",
    "import io\n",
    "\n",
    "# Directorio que contiene los archivos CSV\n",
    "directory = \"./\"\n",
    "\n",
    "# Obtener la lista de archivos CSV en el directorio\n",
    "csv_files = [file for file in os.listdir(directory) if file.endswith(\".csv\")]\n",
    "\n",
    "# Verificar si hay archivos CSV en el directorio\n",
    "if len(csv_files) == 0:\n",
    "    print(\"No se encontraron archivos CSV en el directorio especificado.\")\n",
    "    exit()\n",
    "\n",
    "# Cargar los datos de los archivos CSV en un DataFrame\n",
    "dfs = []\n",
    "\n",
    "for file in csv_files:\n",
    "    file_path = os.path.join(directory, file)\n",
    "    try:\n",
    "        df = pd.read_csv(file_path)\n",
    "        dfs.append(df)\n",
    "    except pd.errors.EmptyDataError:\n",
    "        print(f\"El archivo {file} está vacío y no se puede cargar.\")\n",
    "\n",
    "# Verificar si se cargaron datos en el DataFrame\n",
    "if len(dfs) == 0:\n",
    "    print(\"No se pudo cargar ningún archivo CSV con datos.\")\n",
    "    exit()\n",
    "\n",
    "# Concatenar los DataFrames en uno solo\n",
    "data = pd.concat(dfs)\n",
    "\n",
    "# Mostrar los campos disponibles\n",
    "fields = data.columns.tolist()\n",
    "print(\"Campos disponibles:\")\n",
    "print(fields)\n",
    "\n",
    "# Crear los dropdown menus para seleccionar los campos\n",
    "index_dropdown = widgets.Dropdown(options=fields, description=\"Index:\")\n",
    "variable_dropdown = widgets.Dropdown(options=fields, description=\"Variable:\")\n",
    "x_axis_dropdown = widgets.Dropdown(options=fields, description=\"Eje X:\")\n",
    "y_axis_dropdown = widgets.Dropdown(options=fields, description=\"Eje Y:\")\n",
    "chart_type_dropdown = widgets.Dropdown(options=[\"bar\", \"line\", \"scatter\"], description=\"Tipo de gráfico:\")\n",
    "\n",
    "# Filtrar el campo \"MUNICIPIO\" para obtener las opciones del dropdown de NOMBRE VEREDA\n",
    "municipio_options = data[\"U_MPIO\"].unique()\n",
    "\n",
    "# Crear el dropdown menu para seleccionar el campo \"MUNICIPIO\"\n",
    "municipio_dropdown = widgets.Dropdown(options=municipio_options, description=\"Municipio:\")\n",
    "\n",
    "# Crear el dropdown menu para seleccionar el campo \"NOMBRE VEREDA\" basado en el filtro del campo \"MUNICIPIO\"\n",
    "zona_dropdown = widgets.SelectMultiple(description=\"Zona:\")\n",
    "\n",
    "# Función para actualizar las opciones del dropdown de NOMBRE VEREDA basado en el filtro del dropdown de MUNICIPIO\n",
    "def update_zona_options(change):\n",
    "    selected_municipios = [municipio_dropdown.value]\n",
    "    zona_options = data[data[\"U_MPIO\"].isin(selected_municipios)][\"UA_CLASE\"].unique()\n",
    "    zona_dropdown.options = zona_options\n",
    "\n",
    "# Asignar la función de actualización de opciones al evento \"value\" del dropdown de MUNICIPIO\n",
    "municipio_dropdown.observe(update_zona_options, 'value')\n",
    "\n",
    "# Crear las salidas HTML para la tabla y el gráfico\n",
    "table_output = widgets.Output()\n",
    "chart_output = widgets.Output()\n",
    "\n",
    "# Función para generar y mostrar la tabla y el gráfico seleccionados\n",
    "def generate_output(change):\n",
    "    # Obtener las selecciones realizadas\n",
    "    selected_municipios = [municipio_dropdown.value]\n",
    "    selected_zonas = list(zona_dropdown.value)\n",
    "    \n",
    "    # Obtener los campos seleccionados\n",
    "    index_field = index_dropdown.value\n",
    "    variable_field = variable_dropdown.value\n",
    "    x_field = x_axis_dropdown.value\n",
    "    y_field = y_axis_dropdown.value\n",
    "    chart_type = chart_type_dropdown.value\n",
    "    \n",
    "    # Filtrar los datos basado en las selecciones realizadas\n",
    "    filtered_data = data[data[\"U_MPIO\"].isin(selected_municipios) & data[\"UA_CLASE\"].isin(selected_zonas)]\n",
    "    \n",
    "    # Limpiar las salidas HTML\n",
    "    table_output.clear_output()\n",
    "    chart_output.clear_output()\n",
    "    \n",
    "    # Generar y mostrar la tabla\n",
    "    with table_output:\n",
    "        display(HTML(\"<h2>Tabla</h2>\"))\n",
    "        display(filtered_data)\n",
    "        \n",
    "        # Generar el contenido de la tabla en formato markdown\n",
    "        markdown_content = filtered_data.to_markdown()\n",
    "        \n",
    "        # Crear el widget de Textarea para mostrar el contenido en formato markdown\n",
    "        textarea_widget = widgets.Textarea(value=markdown_content, layout={'height': '100%', 'width': '100%'})\n",
    "        \n",
    "        # Crear la función para crear un enlace de descarga\n",
    "        def create_download_link(content, filename):\n",
    "            buffer = io.BytesIO(content.encode())\n",
    "            download_link = widgets.Button(description=\"Descargar\", layout={'width': 'auto'})\n",
    "            download_link.style.button_color = 'lightgreen'\n",
    "            download_link.style.font_weight = 'bold'\n",
    "\n",
    "            def download_table(_):\n",
    "                with open(filename, 'wb') as f:\n",
    "                    f.write(buffer.getbuffer())\n",
    "\n",
    "            download_link.on_click(download_table)\n",
    "            return download_link\n",
    "        \n",
    "        # Mostrar el widget de Textarea\n",
    "        display(textarea_widget)\n",
    "        \n",
    "        # Crear y mostrar el enlace de descarga\n",
    "        download_link = create_download_link(markdown_content, filename=\"tabla.md\")\n",
    "        display(download_link)\n",
    "    \n",
    "    # Generar y mostrar el gráfico\n",
    "    with chart_output:\n",
    "        try:\n",
    "            fig = go.Figure()\n",
    "            \n",
    "            if chart_type == \"bar\":\n",
    "                fig.add_trace(go.Bar(\n",
    "                    x=filtered_data[x_field],\n",
    "                    y=filtered_data[y_field],\n",
    "                    name=f\"{y_field} ({x_field})\"\n",
    "                ))\n",
    "            elif chart_type == \"line\":\n",
    "                fig.add_trace(go.Scatter(\n",
    "                    x=filtered_data[x_field],\n",
    "                    y=filtered_data[y_field],\n",
    "                    mode=\"lines\",\n",
    "                    name=f\"{y_field} ({x_field})\"\n",
    "                ))\n",
    "            elif chart_type == \"scatter\":\n",
    "                fig.add_trace(go.Scatter(\n",
    "                    x=filtered_data[x_field],\n",
    "                    y=filtered_data[y_field],\n",
    "                    mode=\"markers\",\n",
    "                    name=f\"{y_field} ({x_field})\"\n",
    "                ))\n",
    "\n",
    "            fig.update_layout(\n",
    "                title=f\"Gráfico de {chart_type} de {y_field} por {x_field}\",\n",
    "                xaxis=dict(title=x_field),\n",
    "                yaxis=dict(title=y_field)\n",
    "            )\n",
    "\n",
    "            fig.show()\n",
    "        except ValueError as e:\n",
    "            print(f\"No se pudo generar la gráfica. Error: {str(e)}\")\n",
    "\n",
    "            \n",
    "# Función para generar la tabla de totalización por campo P_SEXO\n",
    "def generate_gender_totals(change):\n",
    "    # Obtener las selecciones realizadas\n",
    "    selected_municipios = [municipio_dropdown.value]\n",
    "    selected_zonas = list(zona_dropdown.value)\n",
    "    \n",
    "    # Filtrar los datos basado en las selecciones realizadas\n",
    "    filtered_data = data[data[\"U_MPIO\"].isin(selected_municipios) & data[\"UA_CLASE\"].isin(selected_zonas)]\n",
    "    \n",
    "    # Totalizar los valores del campo P_SEXO\n",
    "    gender_totals = filtered_data[\"P_SEXO\"].value_counts().reset_index()\n",
    "    gender_totals.columns = [\"P_SEXO\", \"Total\"]\n",
    "    \n",
    "    # Mostrar la tabla de totalización\n",
    "    with table_output:\n",
    "        display(HTML(\"<h2>Totalización por P_SEXO</h2>\"))\n",
    "        display(gender_totals)\n",
    "\n",
    "        \n",
    "        \n",
    "        \n",
    "# Asignar la función de generación de la tabla de totalización al evento \"change\" de los dropdown menus\n",
    "municipio_dropdown.observe(generate_gender_totals, 'value')\n",
    "zona_dropdown.observe(generate_gender_totals, 'value')\n",
    "            \n",
    "            \n",
    "            \n",
    "# Asignar la función de generación de tabla y gráfico al evento \"change\" de los dropdown menus\n",
    "index_dropdown.observe(generate_output, 'value')\n",
    "variable_dropdown.observe(generate_output, 'value')\n",
    "x_axis_dropdown.observe(generate_output, 'value')\n",
    "y_axis_dropdown.observe(generate_output, 'value')\n",
    "chart_type_dropdown.observe(generate_output, 'value')\n",
    "municipio_dropdown.observe(generate_output, 'value')\n",
    "zona_dropdown.observe(generate_output, 'value')\n",
    "\n",
    "# Mostrar los dropdown menus y las salidas HTML\n",
    "display(index_dropdown, variable_dropdown, x_axis_dropdown, y_axis_dropdown, chart_type_dropdown)\n",
    "display(municipio_dropdown, zona_dropdown)\n",
    "display(table_output)\n",
    "display(chart_output)\n"
   ]
  },
  {
   "cell_type": "code",
   "execution_count": null,
   "id": "a6941b44",
   "metadata": {},
   "outputs": [],
   "source": []
  },
  {
   "cell_type": "code",
   "execution_count": null,
   "id": "54da7af4",
   "metadata": {},
   "outputs": [],
   "source": []
  }
 ],
 "metadata": {
  "kernelspec": {
   "display_name": "Python 3 (ipykernel)",
   "language": "python",
   "name": "python3"
  },
  "language_info": {
   "codemirror_mode": {
    "name": "ipython",
    "version": 3
   },
   "file_extension": ".py",
   "mimetype": "text/x-python",
   "name": "python",
   "nbconvert_exporter": "python",
   "pygments_lexer": "ipython3",
   "version": "3.10.10"
  }
 },
 "nbformat": 4,
 "nbformat_minor": 5
}
