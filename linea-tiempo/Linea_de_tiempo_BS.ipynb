{
 "cells": [
  {
   "cell_type": "markdown",
   "id": "d0df561b",
   "metadata": {},
   "source": [
    "# Línea de tiempo Bajo Sinú"
   ]
  },
  {
   "cell_type": "code",
   "execution_count": 12,
   "id": "45160d65",
   "metadata": {},
   "outputs": [
    {
     "data": {
      "application/vnd.plotly.v1+json": {
       "config": {
        "plotlyServerURL": "https://plot.ly"
       },
       "data": [
        {
         "alignmentgroup": "True",
         "base": [
          "1700-01-01T08:00:00",
          "1924-01-01T08:00:00",
          "1967-01-01T08:00:00",
          "1971-02-21T08:00:00",
          "1972-05-13T08:00:00",
          "1974-01-01T08:00:00",
          "1976-01-01T08:00:00",
          "1978-01-01T08:00:00",
          "1981-01-01T08:00:00",
          "1985-01-01T08:00:00",
          "1996-01-01T08:00:00",
          "1997-01-01T08:00:00",
          "1998-01-01T08:00:00",
          "1999-03-25T08:00:00",
          "2000-01-01T08:00:00",
          "2006-07-07T08:00:00",
          "2007-10-25T08:00:00",
          "2009-01-01T08:00:00",
          "2012-01-01T08:00:00",
          "2013-12-11T08:00:00",
          "2015-01-01T08:00:00",
          "2017-01-01T08:00:00",
          "2017-07-28T08:00:00",
          "2017-09-01T08:00:00",
          "2018-02-01T08:00:00",
          "2018-06-12T08:00:00",
          "2019-06-01T08:00:00",
          "2019-10-01T08:00:00",
          "2021-03-01T08:00:00",
          "2021-03-21T08:00:00",
          "2021-03-23T08:00:00",
          "2021-03-27T08:00:00",
          "2021-03-29T08:00:00",
          "2021-05-06T08:00:00",
          "2021-05-09T08:00:00",
          "2021-05-24T08:00:00",
          "2021-06-25T08:00:00",
          "2021-07-03T08:00:00",
          "2021-07-27T08:00:00",
          "2021-09-12T08:00:00",
          "2021-11-23T08:00:00",
          "2021-12-16T08:00:00",
          "2021-12-29T08:00:00",
          "2022-01-17T08:00:00",
          "2022-01-28T08:00:00",
          "2022-02-03T08:00:00",
          "2022-04-08T08:00:00",
          "2022-04-20T08:00:00",
          "2022-05-03T08:00:00",
          "2022-05-05T08:00:00",
          "2022-05-06T08:00:00",
          "2022-05-26T08:00:00",
          "2022-08-05T08:00:00",
          "2022-08-17T08:00:00",
          "2022-08-28T08:00:00",
          "2022-10-17T08:00:00",
          "2022-10-19T08:00:00",
          "2022-10-22T08:00:00",
          "2022-10-26T08:00:00",
          "2022-11-18T08:00:00",
          "2022-12-02T08:00:00",
          "2023-01-01T08:00:00",
          "2023-01-01T08:00:00",
          "2023-03-01T08:00:00",
          "2023-03-29T08:00:00"
         ],
         "customdata": [
          [
           "Momil I - Momil II  desde 500 A.C hasta 1500 D.CConvivencia entre los pueblos prehispanicos de Mexión pertenecientes a la cultura Zenú "
          ],
          [
           "Grupos de campesinos rompen cercas de alambre de púa en la noche luego de que Torralvo se apropiara de los humedales donde cultivaban"
          ],
          [
           "Creación de la Asociación Nacional de Usuarios Campesinos ANUC"
          ],
          [
           "Recuperación y tomas de tierras y disputa de los humedales entre campesinos y terratenientes. En el marco de la convocatoria de La línea Sincelejo de la ANUC lidera la primera de muchas jornadas de recuperación masiva de tierras"
          ],
          [
           "Gran recuperación de tierras en San Pablo"
          ],
          [
           "Intento de recuperación"
          ],
          [
           "Intento de recuperación"
          ],
          [
           "El proceso histórico de recuperación de tierras en la Ciénaga"
          ],
          [
           "Fecha histórica en que 120 familias recuperaron tierras al terrateniente Elias Milane Calume"
          ],
          [
           "INCORA expidió el contrato de asignación N. 001 del 22 de febrero de 1985"
          ],
          [
           "Muchas críticas hubo a la audiencia por las restricciones a la participación y como mecanismo que pretendió validar falsamente la obra"
          ],
          [
           "El ejército y paramilitares detuvieron la marcha que se dirigía al Alto Sinú. La concentración se mantuvo en el corregimiento de Palo de Agua"
          ],
          [
           "Campesinado del Departamento de Córdoba se moviliza para protestar y buscar respuestas del gobierno nacional"
          ],
          [
           "Sentencia T - 194 de 1999, con la cual, entre otras decisiones, se ordena a algunos entes municipales adelantar las actuaciones administrativas de su competenc¡a e initaurar las acciones procedentes para recuperar el dominio públ¡co sobre las áreas de terreno de los cuerpos de agua que fueron desecados y apropiados por particulares."
          ],
          [
           "La marcha pudo avanzar sólo 4 kilómetros y fue detenida bajo amenazas de violencia. "
          ],
          [
           "Comunidades logran la declaratoria de área protegida ambiental"
          ],
          [
           "La movilización social logra la creación del Distrito de Manejo Integrado Ciénaga Grande"
          ],
          [
           "Desalojo y violación a los derechos humanos de la policia contra campesinos en la vereda de las Arepas. "
          ],
          [
           "ASPROSIG realiza un recorrido en bicicleta por la Ciénaga para reconocer sus afectaciones con acompañamiento internacional como estrategia de mitigación del riesgo de la verifiación. Se encuentran máquinas trabajando lo que serían 12km de terraplenes 2 años después."
          ],
          [
           "Logro de las comunidades de la margen izquierda en la declaración de la figura de protección ambiental"
          ],
          [
           "En el año 2015 se presentaron nuevos episodios de los enfrentamientos entre campesinos, policías del ESMAD, y el finquero-empresario Elías Milane Calume, por la ocupación de tierras en disputa de la denominada hacienda San Pablo del municipio de Cotorra. "
          ],
          [
           "Organizaciones y comunidades inician movilización social y jurídica contra la construcción de la \"Variante Lorica\" del Concesionario Ruta al mar"
          ],
          [
           " Resolución 23603 del 28 de julio de 2017 donde la CVS ordena a los Personeros, Alcaldes y Concejales, que procedan de inmediato a: - Suspender toda obra de relleno v desecación de pantanos, ciénaqas v humedales en el territorio de esos municipios. Salvedad hecha de las que sean indispensables para el saneamiento."
          ],
          [
           "En el Bajo Sinú inicia el trabajo comunitario en el marco del proyecto"
          ],
          [
           "En el mes de febrero se hace el primer recorrido por los sitios definidos para la investigación sobre Conflictos Territoriales en el Complejo Cenagoso del Bajo Sinú."
          ],
          [
           "Comunidades de la margen izquierda logran creación de la figura de protección ambiental"
          ],
          [
           "Nace El Movimiento Social el Agua Contando Historias en el marco del Diplomado del proyecto \"Transformemos\""
          ],
          [
           "El Movimiento social hace de forma autónoma la reconstrucción del polígono della Ciénaga de acuerdo a los mojones ubicados para la Resolución 010 de 1982"
          ],
          [
           "Primer llamado a una mesa de trabajo por el Movimiento social el agua contando historias"
          ],
          [
           "La dilincuencia está arrecha ? El 19 del presente día del hombre en las primeras horas de la mañana  en la parcela en Tierraltica me pescaron la represa con 600 bocachico de 10 meses y 30 icoteas del hábitat para su conservación y los bandidos depredadores del medio natural están siendo perguidos por las autoridades y y vigilancia de la comunidad . Señores agentes de la Policía nacional mano dura a la delincuencia organizada . Atte Gilberto Antonio Negrette López , Avisfacrul LoricA 22 , 03 , 2021 ."
          ],
          [
           "Reporte sobre recuperación en Pimental y reflexiones sobre la lucha. Eugenio Ramos, asociado fundador de ASPROCIG contando la historia de los procesos de lucha por la tenencia de la tierra para Campesino en la Ciénaga Grande del Bajo Sinú"
          ],
          [
           "Estos decomisos de Icotea ocurre cada año y nunca e visto a una persona pagando pena por este delito."
          ],
          [
           "Reporte con fotos. Debido a la escasez de peces en nuestros humedales Ciénagas y ríos, nos toca comer rebortillo de babilla en esta semana santa"
          ],
          [
           "Alcaldia de Cotorra, invierte recursos públicos en horas de Bulldozer para hacer camellones. Con el pretexto de protejer a la comunidad San Pablo y ahora la maquinaria está taponeando más de 50 has y secando el Canal Drenaje14 hacia el interior de las Ciénagas de Lata, Jolon hasta llegar a Charco Grande con una aproximación de 3 kilómetros... Un S.O.S a la Procuraduría Agraria y Ambiente de Córdoba y la CVS y de órganos control ambiental y Sociedad Civil que reprochando hoy el Vandalismo Institucional a la Naturaleza y los Ecosistemas"
          ],
          [
           "En atención a los contantes y reiterados actos de Vandalismo en contra del Complejo Cenagagoso del Bajo Sinú - CGBS en los diferentes municipios no Ciénaga de Oro, Chima, Cotorra, Lorica, Purísima y Momil.  Estos \"Vándalos\" actos que tienen en un alto riesgo y en peligroso a este Ecosistemas por el desarrollo de Proyectos tales: 1. Ruta al Mar, Proyecto Vial (Doble Calzada y Variantes en municipio de Lorica) Consorcio El Cóndor.2. Proyecto de infraestructura de Subasta Regional en el sector Palo de Agua - Cotoca Arriba (Lorica). Contrucción de camellones. 3. Replanteamiento y extensión de camellones en el Drenaje 14 hasta el interior de las Ciénagas de Lata, Jolon y Charco Grande con área aproximado de 50 hectáreas. Sector San Pablo - Cotorra.4. El desarrollo de acciones de represión comercial y extorsiva a campesinos, pescadores y Comunidades Étnicas en la restricción de uso y aprovechamiento de los bienes naturales del ecosistema por el establecimiento de frontera o límite de propiedad privada en el bien público.5. Acciones administrativas de las Entidades Territoriales los POT y EOT en la ampliación del crecimiento Poblacional y construcción de viviendas y otros servicios públicos en área de la Ciénaga Grande del Bajo Sinú.Señores miembros y Representantes de las organizaciones filiares de Movimiento Social El Agua Contando Historias solicitamos respaldar está iniciativa en destacar todas aquellas obras, proyectos, acciones administrativas públicas y hechos abusivos de terceros en contra de los derechos colectivos de las familias y Comunidades asentadas tradicionales en el Ecosistema.Estos aportes deben ser evidenciado con fotos o vídeos y se debe describir el propósito del hecho o la obra, su ubicación y la empresa o persona responsable. En este orden de idea, esperamos sus observaciones y recomendaciones sobre el particular.Gracias por su aporte!"
          ],
          [
           "Enildo Cantero: La reunión de mañana es con los gremios organizados  municipio, con el objetivo de analizar la problemática de la desecación de la ciénaga grande de Lorica a raíz de los acontecimientos que últimamente se están presentando con lo denunciado en el sector de la peinada,El lugar va  hacer el auditorio de la alcaldía Hora: 9:00 amDía lunes 24 de mayo del 2021Esto es una iniciativa va ser liderada por iniciativa de las organizaciones civiles, comunitarias, ancestrales, académicas, ambientalistas , como sonAfros- oarelAnuc- capitulo LoricaAsprocigAdemacorComunidad indígenasCTPUPDFedepec"
          ],
          [
           "Buen día bendiciones para todos, ayer se concerto la mesa de Pesca Artesanal de la cuenca media y bajo Sinu, en reunió en el día de ayer con el secretario Económico y Agroindustrial de la alcaldía de Lorica Jaider Torralvo, Pescadores Artesanales independientes de San Sebastián y Lorica y miembros directivos de la Federación de Pescadores Artesanales y Productores Acuícola de Córdoba FEDEPEC, donde se confirmó la asistencia del ministerio del medio ambiente, Urra, Aunap, Gobernación de Córdoba, CVS, Procuraduría Agraria y ambiental, quedaron lagunas por confirmar en el día de hoy, se tratarán temas como:.                           1) Avances sobre el seguimiento de los municipios sobre el cumplimiento de la sentencia T 194/99, ante el gobernador de Córdoba en convocatoria del Comité de Seguimiento de dicha sentencia.                               2) Implementación de programas que garantía en la.seguridas  alimentaria dirigidas a la población Pesquera.            3) Acciones de Inmediato para resarcir el impacto ambiental del complejo Cenagozo del bajo Sinu y prevenirlas.         4) Implementación de Proyectos de Limpieza de Caños interiores, reforestación de rondas hídricas, manejos de residuos sólidos y Artes y equipos de pesca artesanal para los Pescadores Artesanales.                   5) Buscar acciones dirigidas al en mantener  un nivel adecuado de Aguas en el río Sinu en tiempos de lluvias para que el complejo de Ciénagas del bajo Sinu se mantengan con la siguiente cita de agua que conlleve a la entradas de peces, Alevinos y lavas.                   6) Implementación de repoblamiento de Alevinos en el complejo Cenagozo del bajo Sinu y fortaleciendo de momentos a las asociaciones de Pescadores Artesanales.          Espera reunirnos el lunes para concertar estos puntos y escoger los voceros que sustentarán el pliego de peticiones y concertaciones.                  Espero que la mayoría que forman parte del sector Pesca Artesanal nos apoye en esta lucha que hemos llevado acabo desde décadas y que no hemos podido avanzar, pongamos Fe en el Dios Todopoderoso que nos ayude a sacar estás iniciativas.  Dios tu qué conoces los pensamientos del hombre te pido que actúes en el nombre de nuestro señor Jesucristo Amen. Muchas gracias los AMO mucho.............."
          ],
          [
           null
          ],
          [
           "Se hace seguimiento en reunión virtual y se reiteran compromisos para convocatoria a mesas"
          ],
          [
           "La Coordinación del Movimiento solicita a la Procuraduría acompañamiento para jornada de socialización y lista propuestas"
          ],
          [
           "Movimiento Social El Agua Contando Historias. Destaca el acompañamiento de Dra. Lina Correa (Procuradora Delegados Agraria y Ambiental de Córdoba) y Profesor Antonio Lemus (Coordinador Gral RPG Pueblo Zenú).  Concretando acciones preparatorias a la IV Mesa Técnica de Trabajo, el próximo 23 de Noviembre, en el municipio de San Pelayo (Córdoba). En el marco de las acciones de cumplimiento de Resolución Defensorial #058 de 2011, Sentencia# T-194 de 1999 y Resolución#010 de 1982 (INCORA - ANT)"
          ],
          [
           "33 personas representantes del Movimiento participan con la Defensoría en un taller de análisis y reflexión de las problemáticas del Bajo Sinú como preparación a las mesas técnicas que se adelantan con las instituciones."
          ],
          [
           "Buen día bendiciones, en el día de ayer se celebró la reunión del Movimiento social El Agua Contando Historia y un grupo de líderes de los Ciénagas de Corralito, La Pacha, Baño- Los Negros, Charco Pescao, Chamba y Caño de la Balsa, muy importante la descripción de las probleaticas esperamos tener la información necesaria para buscar soluciones a las mismas."
          ],
          [
           "La Coordinación del Movimiento invita a establecer alianzas entre las organizaciones en los temas clave que sigue el proceso organizativo"
          ],
          [
           "Atendiendo convocatoria de la Gobernación de Córdoba, se postulan delegados para la construcción de la política departamental de población campesina"
          ],
          [
           "El IGAC acogió concepto de la Procuraduría y confirmó decisión de no acceder a la inscripción catastral del predio Villa Eva de 500 hectáreas en Lorica, al considerar que está localizado al interior de un humedal, Lo reclama un señor que se llama Jose Tomas Sierra Arias,y el abogado se llama Jesús Arrazola Paternina. "
          ],
          [
           "El Movimiento Social El Agua Contando Historias, cómo colectivo social de organizaciones del Complejo Cenagagoso del Bajo Sinú, desarrollo de manera exitosa la IV Mesa Técnica de Trabajo - Comisión TierraEvento que se desarrollo con la participación del Director de la Gestión Jurídica de la Agencia Nacional e Tierras (ANT), Defensor del Pueblo Departamental, Secretaria de Gobierno Municipal y funcionarios de la CVS en representación de la Institucionalidad. El propósito de esta convocatoria se centro en la presentación de informe sobre la reconstrucción del expediente de la Resolución #010 de 1982 para determinar la  CLARIFICACIÓN DE LA PROPIEDAD EN PREDIOS COLINDANTES CON CIÉNAGAS, LAGOS Y ZONAS DE RESERVA FORESTAL – RECUPERACIÓN DE BALDIOS INDEBIDAMENTE OCUPADOS – CCBS, de conformidad a la Resolución Defensorial #058 de 2010, Sentencia T-194 de 1999 y Resolución #010 de 1982. Cotoca Arriba (Lorica)"
          ],
          [
           "Trabajo organizativo a nivel interno del Movimiento Social"
          ],
          [
           "en el Municipio de Montería"
          ],
          [
           "Mesa Técnica de Trabajo, Comisión Ambiental y Ordenamiento Territorial, San Pablo Cotorra. Entidades convocadas Alcaldía Municipal de Cotorra, CVS, Procuraduría Agraria y ambiental, Defensoría del Pueblo y Personería Municipal de Cotorra."
          ],
          [
           "Foro \"Reflexión sobre la situación del Río Sinú y su importancia como eje de desarrollo económico, cultural y ambiental\" Convoca; Defensoría del Pueblo y La Alianza Global de las Instituciones Nacionales de Derechos Humanos - GANHRI. Conversatorio que se realizará el próximo 6 de mayo (Plaza Cultura - Malecón) Montería a partir de las 8:30 a.m."
          ],
          [
           "En la Plaza Maria Varilla se dieron cita el Movimiento Social e instituciones para el Foro y socialización del Informe Defensorial sobre el río Sinú"
          ],
          [
           "En medio de las crecientes el Defensor  Nacional del Pueblo visita la vereda Cotocá Arriba"
          ],
          [
           "Hoy nos reunimos la sociedad civil organizada, como FEDEPEC, ANUC, ASPROCIG, ASJUNTAS MI, CTP, Veeduría VOz popoli, Víctimas, Agua contando historias, defensores de DDHH, para reactivar la Mesa permanente de la cuenca en el Bajo Sinú, donde hablamos de la situación que estamos viviendo por la ola invernal."
          ],
          [
           "Luego de la reunión, el grupo participante de organizaciones emite comunicado"
          ],
          [
           "Socialización del Movimiento en el Grupo de apoyo en Colombia a la Vía Campesina"
          ],
          [
           "Las organizaciones siguen movilizadas en contra del proyecto. Se reunen para analizar el escenario jurídico actual."
          ],
          [
           "Se convoca a tod@s los integrantes de la Mesa Regional de Crisis Climática a una reunión que se celebrará el Sábado 22 de Octubre del 2022 apartir de las 8:30am en la Universidad de Córdoba sede Lorica, El objetivo es conocer la realidades del proyecto VARIANTE A LORICA, con la participación del Dr Manuel Salvador Nule Renals, no se quede en casa, vamos TODOS a participar por qué en verdad LORICA y el bajo Sinu necesita la variante, pero también necesita saber como se realizado este proceso."
          ],
          [
           "Defensoría acompaña espacio de socialización de avances del proceso de deslinde por parte de la ANT"
          ],
          [
           "El Movimiento Social participa en la movilización campesina en el histórico lugar para el campesinado"
          ],
          [
           "Participación del Movimiento en la Convención que entregó documento de propuestas para el Plan de Desarrollo"
          ],
          [
           "Se vincula inicialmente a las reuniones semanales"
          ],
          [
           "El bajo Sinú ya estaba vinculado desde la lucha de Urrá. Se retoma este vínculo por las nuevas amenazas con el proyecto de puerto de aguas profundas en Tolú"
          ],
          [
           "La Corte llamó a cuentas a las instituciones y se dio la orden de cumplimiento por desacato, lo cual puso en riesgo de detención al gobernador de Córdoba"
          ],
          [
           "Las instituciones dieron información al Movimiento sobre el estado de avance en la gestión del caso y la validación de la información aportada"
          ]
         ],
         "hovertemplate": "Categoría=Movimiento<br>Datetime1=%{base}<br>Datetime2=%{x}<br>Hecho=%{y}<br>Descripción=%{customdata[0]}<extra></extra>",
         "legendgroup": "Movimiento",
         "marker": {
          "color": "#636efa",
          "pattern": {
           "shape": ""
          }
         },
         "name": "Movimiento",
         "offsetgroup": "Movimiento",
         "orientation": "h",
         "showlegend": true,
         "textposition": "auto",
         "type": "bar",
         "x": [
          31536000000,
          31622400000,
          31536000000,
          31536000000,
          31536000000,
          31536000000,
          31622400000,
          0,
          0,
          31536000000,
          0,
          31536000000,
          31536000000,
          31622400000,
          31622400000,
          31536000000,
          31622400000,
          31536000000,
          31622400000,
          31536000000,
          31536000000,
          31536000000,
          31536000000,
          31536000000,
          31536000000,
          31536000000,
          31622400000,
          31622400000,
          31536000000,
          31536000000,
          31536000000,
          31536000000,
          31536000000,
          31536000000,
          31536000000,
          31536000000,
          31536000000,
          31536000000,
          31536000000,
          31536000000,
          31536000000,
          31536000000,
          31536000000,
          31536000000,
          31536000000,
          31536000000,
          31536000000,
          31536000000,
          31536000000,
          31536000000,
          31536000000,
          31536000000,
          31536000000,
          31536000000,
          31536000000,
          31536000000,
          31536000000,
          31536000000,
          31536000000,
          31536000000,
          1123200000,
          86400000,
          86400000,
          86400000,
          86400000
         ],
         "xaxis": "x",
         "y": [
          "Cultura Zenú",
          "Macheteros rompen alambres de púa del General Torralvo",
          "ANUC",
          "Recuperaciones de tierras en Chimá y  Ciénaga de oro",
          "Gran recuperación de tierras en San Pablo",
          "Intento de recuperación",
          "Intento de recuperación",
          "Hora cero de la Ciénaga",
          "Recuperaciones de tierras en San Pablo",
          "Primer comodato",
          "Audiencia pública Urrá",
          "Primera marcha contra Urrá",
          "Marcha a Bogotá",
          "Sentencia T-194",
          "Nueva marcha a las oficinas de urrá",
          "DMI Bahía de Cispatá",
          "DMI Ciénaga Grande",
          "Intento de desalojo en la parcelación Las Arepas",
          "Recorrido en bicicleta por los humedales halla 12 kilómetros de terraplenes",
          "Ciénaga de Bañó Distrito de conservación de suelos",
          "Enfrentamientos con ESMAD en San Pablo",
          "Movilización ante anuncio del Proyecto Variante Lorica",
          "CVS ordena frenar obras",
          "Inicia proyecto \"Transformemos\"",
          "Recorridos Proyecto Transformemos",
          "Ciénaga de Los Negros Distrito de conservación de suelos",
          "Nace Movimiento Social",
          "Levantamiento mapa amojonamiento",
          "Movimiento convoca por 1a vez",
          "Movimiento denuncia robos a acuicultores",
          "Reporte recuperación Pimental",
          "Reporte sobre falta de efectividad en decomisos de hicotea",
          "Reporte escasez de peces",
          "Denuncia camellones Alcadía de Cotorra",
          "Campaña denuncia ",
          "Organización sobre desecaciones La Peinada",
          "Peticiones en Mesa de pesca artesanal Bajo y Medio Sinú",
          "Audiencia Resolución #058 Defensoría ",
          "Seguimiento Audiencia",
          "Comunicado Movimiento con solicitudes",
          "IV mesa técnica del Bajo Sinú",
          "Taller con Defensoría en Montería",
          "Reunión interna del Movimiento",
          "Convocatoria interna de alianzas",
          "Movimiento participa en Política campesina",
          "IGAC protege Complejo Cenagoso",
          "IV mesa técnica del Bajo Sinú",
          "Mesa de trabajo Comisión ordenamiento",
          "Reunión técnica con la dirección de Restitución de Tierras ",
          "Mesa Técnica de Trabajo",
          "Foro Reflexión sobre la situación del Río Sinú",
          "Foro y entrega informe defensorial",
          "Visita Defensor del Pueblo a Cotocá",
          "Por la reactivación Mesa permanente del Sinú",
          "Primer comunicado Mesa permanente de la cuenca del Bajo Sinú",
          "Socialización Movimiento en Vía campesina",
          "Reunión de organizaciones contra Variante Lorica",
          "Mesa regional de Crisis climática",
          "Socialización proceso de deslinde",
          "Movilización campesina en Sincelejo",
          "Convención Nacional Campesina",
          "Vinculación del MSACH al grupo de apoyo a la Vía Campesina",
          "Vinculación del MSACH al Movimiento de afectados por las represas",
          "Audiencia pública de seguimiento a la Sentencia T-194 de 1999",
          "Mesa técnica de la ANT, IGAC, Procuraduría, CVS"
         ],
         "yaxis": "y"
        },
        {
         "alignmentgroup": "True",
         "base": [
          "1700-01-01T08:00:00",
          "1700-01-01T08:00:00",
          "1700-01-01T08:00:00",
          "1700-01-01T08:00:00",
          "1702-01-01T08:00:00",
          "1773-01-01T08:00:00",
          "1862-01-01T08:00:00",
          "1880-01-01T08:00:00",
          "1887-01-01T08:00:00",
          "1905-01-01T08:00:00",
          "1920-01-01T08:00:00",
          "1924-01-01T08:00:00",
          "1936-01-01T08:00:00",
          "1942-01-01T08:00:00",
          "1942-06-13T08:00:00",
          "1955-01-01T08:00:00",
          "1961-01-01T08:00:00",
          "1982-01-01T08:00:00",
          "1982-02-11T08:00:00",
          "1989-01-01T08:00:00",
          "1991-01-01T08:00:00",
          "1993-07-22T08:00:00",
          "1994-01-01T08:00:00",
          "1996-01-13T08:00:00",
          "1998-01-01T08:00:00",
          "1999-04-24T08:00:00",
          "2000-03-01T08:00:00",
          "2001-01-01T08:00:00",
          "2001-06-02T08:00:00",
          "2001-07-23T08:00:00",
          "2005-01-18T08:00:00",
          "2008-01-01T08:00:00",
          "2015-01-01T08:00:00",
          "2017-07-18T08:00:00",
          "2018-01-11T08:00:00",
          "2019-05-21T08:00:00",
          "2020-02-07T08:00:00",
          "2021-05-07T08:00:00",
          "2021-08-25T08:00:00",
          "2021-08-30T08:00:00",
          "2021-09-05T08:00:00",
          "2021-12-16T08:00:00",
          "2021-12-21T08:00:00",
          "2022-03-21T08:00:00",
          "2022-01-21T08:00:00",
          "2022-04-01T08:00:00",
          "2022-05-07T08:00:00",
          "2022-08-11T08:00:00",
          "2022-09-26T08:00:00"
         ],
         "customdata": [
          [
           "Llegada de los hermanos Pedro y Alonso de Heredia a la región. "
          ],
          [
           "Encomienda de San Andres y delimitación del resguardo "
          ],
          [
           "Confirmación y amparo del resguardo de San Andres el 3 de marzo."
          ],
          [
           "Fundación de San Sebastian de Urabá al otro lado de la ciénaga. "
          ],
          [
           "Fundación de San Jose de Momil "
          ],
          [
           "Deslide Colonial de las tierras. Expedición de la escritura madre del resguardo de San Andres "
          ],
          [
           "En Ciénaga de Oro, se estableció la Casa Burgos desde 1862 que desarrolló la hacienda Berástegui, donde llegaron a pastar hasta 20.000 cabezas de ganado. Con está ganadería de inicio la siembra de hierba pará o admiravle, donde se inició la expansión de los potreros en el Sinú."
          ],
          [
           "Los \"blancos\" empezaron a romper los limites del resguardo"
          ],
          [
           "En Lorica la casa comercial de Diego Martínez y Compañía, alcanzó a adecuar 40.000 hectáreas en el Valle del Sinú; con la Casa de Lorica compraba ganado, lo criaba, lo cebaba y lo vendía en el interior del país"
          ],
          [
           "La Nación ratifica y confirma las declaratorias judicial y legalmente hechas, de estar vacantes globos de terrenos conocidos como Resguardos de indígenas, así como también la ventas de ellas efectuadas en subasta pública; y reconoce como título legal de propiedad de esos terrenos el adquirido por sus rematadores."
          ],
          [
           "Llegada de la South American Gult Oil Company SAGOC, primera empresa exploradora de petroleo. "
          ],
          [
           "Se metió con los campesinos de Los Morales abajo de Cotorra. \"Puso una rancha en medio, bautizándola como San Pablo\""
          ],
          [
           "Expedición de la Ley de tierras y sus repercusiones. Ley 200"
          ],
          [
           "Los Senadores Fabio Amín y Miguel de la Espriella solicitan un plan de intervención al gobierno central"
          ],
          [
           "El 13 de junio se produjo el desvio del río Sinú (Tinajones) de su desembocadura natural (Cispatá) y  empezó la desecación del delta y la zona de estuarios. La policía desaloja, atropella y destruye las viviendas de 170 capesinos organizados que habían tomado posesión en tierras del delta. "
          ],
          [
           "El gobierno colombiano contrató un estudio con la firma norteamericana Tipton and Kalmbach Inc., experta en ingeniería hidráulica, irrigación y drenaje con el objetivo de buscar una solución a ese problema. En su reporte final, la firma concluyó que en el caso del Sinú existían más de 300.000 hectáreas que se deberían secar para expandir la agricultura, especialmente de algodón para exportación. Además, la firma aconsejó construir una represa en la parte alta del río para controlar las inundaciones aguas abajo."
          ],
          [
           "Ley 135 de 1961 expropiación , adjudicaciones a campesinos.Nace el Instituto Colombia de la Reforma Agraria INCORA."
          ],
          [
           "Disputa por la tierra en la finca el Higal del municipio de Ciénaga de Oro. Detenidos, heridos y atropellos a los campesinos por parte de la policía. "
          ],
          [
           "Sin embargo, tan solo mediante las resoluciones 010 del 11 de febrero de 1982 y 034 del 21 de julio de 1983, la junta directiva del INCORA, deslindó los terrenos que conforman la Ciénaga Grande dentro de los Municipios de Lorica, Momil, Chimá, Purísima y Ciénaga de Oro, en el departamento de Córdoba, con una extensión aproximada de 38.843 hectáreas 2.000 metros cuadrados."
          ],
          [
           null
          ],
          [
           "Mataron a Julio Moreno quien fuera el primer presidente de ASPROSIG (Asociación de Productores Ecológicos del bajo Sinú), su padre era Alfonso Moreno dirigente de FANAL.  "
          ],
          [
           "Iniciación de las obras civiles del proyecto Urrá después que El INDERENA aprobara la Licencia Ambiental para la etapa de construcción del Proyecto Multipropósito"
          ],
          [
           " Movimientos campesinos logran la promulgación del Decreto 2663 de 1994 Procedimiento de deslinde de tierras de propiedad de la nación"
          ],
          [
           "Desviación del río Sinú en la Angostura de Urrá, necesaria para la construcción de la Presa."
          ],
          [
           "Articulo 1998 dice que Zulema Jattin presentaria propuesta de Ley para crear parque en la Ciénaga "
          ],
          [
           "Lider indígena Embera Katío asesinado por paramilitares por oponerse a Urrá"
          ],
          [
           "Ante la persecución desatada hubo múltiples desplazamientos y homicidios"
          ],
          [
           "Se estrechan lazos con organizaciones de Suiza, Francia, España"
          ],
          [
           "Fue secuestrado por paramilitares y desaparecido. En 2023 Salvatore Mancuso dijo que había sido arrojado al río Sinú"
          ],
          [
           "Políticos, empresarios y paramilitares firman pacto para \"Refundar la patria\" y tomar cargos del Estado"
          ],
          [
           "En Santafé de Ralito, municipio de Tierralta, Córdoba"
          ],
          [
           "Aparecen panfletos y grafittis en la región de Urabá. Posteriormente en varios departamentos del país"
          ],
          [
           "Expulsión y prohibición para transitar a los lideres comunitarios y ONG en  territorios de la ciénaga grande, por presuntos hombres armados pertenecientes a la seguridad privada de la denominada finca TEXAS frente a los municipios de Chimá y Mómil. "
          ],
          [
           "Informe estado de procesos agrarios de deslinde y recuperación adelantados sobre la Ciénaga Grande del Bajo Sinú "
          ],
          [
           "El 11 de enero el Tribunal Superior de Córdoba ordenó suspender las obras de ejecución del proyecto variante Lorica, sobre las areas que afectan el complejo cenagoso del Bajo Sinú. "
          ],
          [
           "Auto 710 del 21 de mayo de 2019 de la ANT que cierra la actuación administrativa de reconstrucción  del  expediente  del  proceso  agrario  de  deslinde  adelantado  sobre  terrenos  que conforman la CGBS."
          ],
          [
           "Acuerdo entre los Departamentos de Córdoba, Sucre, Bolívar para inversión en desarrollo turístico, salud, productiva y en educación"
          ],
          [
           "A $ 30.000 el quintal, para colaborarle a nuestros amigos Campesinos de la margen Izquierda, que tienen sus cosechas sin vender"
          ],
          [
           "Artículo y video compartido sobre afectación por crecientes"
          ],
          [
           "Ante crecientes, Urrá decide apagar una de sus turbinas para disminuir caudal río abajo"
          ],
          [
           "Buenas noches bendiciones, gracias a Dios hoy terminamos de tapar el Boquete en el punto crítico Nueva Colombia en COTOCA Arriba"
          ],
          [
           "Este es el tercer muro de contención que se hunde en las riberas del Sinú. El primero fue en la vereda Sarandelo, el pasado 22 de noviembre; el segundo el de Los Gómez, cuya noticia fue divulgada el pasado 10 de diciembre; y ahora ocurre lo mismo en Nueva Colombia, Cotocá Arriba, también en Lorica. Lo había construido la UNGRD"
          ],
          [
           "Ministro en visita anuncia inversión de 51.600 millones de pesos en diferentes proyectos para restauración ecológica de zonas degradadas y a la mitigación de los riesgos en Córdoba."
          ],
          [
           "El Tribunal ordenó cambios en el diseño al Ministerio de Transporte y a la Concesión Ruta al Mar. Las dos entidades decidieron desistir del proyecto e invertir en el mejoramiento de la vía principal de Lorica"
          ],
          [
           "Se barajan varios candidatos para representar al Departamento"
          ],
          [
           "Graves afectaciones a los derechos humanos por la demostración de poder del grupo armado tras golpes contra sus estructuras por parte del Estado colombiano"
          ],
          [
           "Dado el agravamiento de la situación se suspenden las actividades comunitarias"
          ],
          [
           "La decisión cierra definitivamente la prentesión de"
          ],
          [
           "La propuesta generó reacción inmediata en el Movimiento"
          ]
         ],
         "hovertemplate": "Categoría=Contexto<br>Datetime1=%{base}<br>Datetime2=%{x}<br>Hecho=%{y}<br>Descripción=%{customdata[0]}<extra></extra>",
         "legendgroup": "Contexto",
         "marker": {
          "color": "#EF553B",
          "pattern": {
           "shape": ""
          }
         },
         "name": "Contexto",
         "offsetgroup": "Contexto",
         "orientation": "h",
         "showlegend": true,
         "textposition": "auto",
         "type": "bar",
         "x": [
          31536000000,
          31536000000,
          31536000000,
          31536000000,
          31536000000,
          31536000000,
          31536000000,
          31622400000,
          31536000000,
          31536000000,
          31622400000,
          31622400000,
          31622400000,
          31536000000,
          31536000000,
          31536000000,
          31536000000,
          31536000000,
          31536000000,
          31536000000,
          31536000000,
          31536000000,
          31536000000,
          31622400000,
          31536000000,
          31622400000,
          31536000000,
          31536000000,
          31536000000,
          31536000000,
          31536000000,
          31622400000,
          31536000000,
          31536000000,
          31536000000,
          31622400000,
          31622400000,
          31536000000,
          31536000000,
          31536000000,
          31536000000,
          31536000000,
          31536000000,
          31536000000,
          31536000000,
          2592000000,
          31536000000,
          31536000000,
          31536000000
         ],
         "xaxis": "x",
         "y": [
          "Hermanos Heredia",
          "Encomienda",
          "Resguardo San Andrés",
          "Fundación San Sebastián de Urabá",
          "Fundación Momil",
          "Deslinde de tierras",
          "Casa Burgos",
          "Invasión de \"blancos\" al Resguardo",
          "Cas Comercial Diego Martínez & Cia",
          "Ley 55 de 1905",
          "Exploración petróleo",
          "General Torralvo toma 70 Has",
          "Ley 200",
          "Senadores solicitan proyecto Plan Tipton",
          "Desvío del río Sinú",
          "Plan Tipton",
          "Ley 135",
          "Disputa por la tierra en la finca el Higal",
          "Resolución 010 de 1982 INCORA",
          "Proyecto represa de Urrá",
          "Homicidio de Julio Moreno",
          "Inicio obras públicas Urrá",
          "Procedimiento de deslinde",
          "Urrá desvía el río Sinú",
          "Zulema Jattin propone crear parque",
          "Homicidio Lucindo Domicó",
          "Desplazamientos y exilios ",
          "Desconfianza y gestión en nivel nacional e internacional",
          "Desaparición de Kimi Pernía",
          "Pacto de Ralito",
          "Desmovilización Bloque Córdoba",
          "Aparición pública Clan del Golfo",
          "Control armado en Finca Texas ubicada en el Zapal de Momil en la Zona Norte del Complejo Cenagoso",
          "Informe ANT procesos agrarios",
          "Tribunal suspende Variante Lorica",
          "ANT declara pérdida expediente",
          "Pacto del Golfo de Morrosquillo",
          "Crisis de Campesinos margen izquierda",
          "Crecientes afectan Sarandelo",
          "Urrá apaga una de sus turbinas",
          "Campesinos cierran boquete en Cotocá Arriba",
          "Se derrumba muro de contención en Nueva Colombia",
          "Ministerio de Medio Ambiente anuncia inversión en proyectos ambientales",
          "Consejo de Estado ordena cambio en Variante Lorica",
          "Candidaturas al Congreso",
          "Paro armado del Clan del Golfo",
          "Se suspenden actividades por paro armado",
          "Consejo de Estado dice NO a Urrá II",
          "Alerta por propuesta de canal alterno de desembocadura"
         ],
         "yaxis": "y"
        },
        {
         "alignmentgroup": "True",
         "base": [
          "1988-08-01T08:00:00",
          "1996-01-01T08:00:00",
          "2007-08-01T08:00:00",
          "2010-08-01T08:00:00",
          "2011-08-01T08:00:00",
          "2017-08-01T08:00:00",
          "2021-08-01T08:00:00",
          "2022-05-07T08:00:00",
          "2022-08-01T08:00:00"
         ],
         "customdata": [
          [
           "Recordada como una de las más grandes de la época contemporánea. Consideradas bendiciones."
          ],
          [
           "Fue algo devastador para la cuenca baja, pues allí penetró con mucha fuerza La cuña salina en los suelos del delta, disminuyendo drásticamente los caudales en todo el complejo lagunar y ocasionó la pérdida de cosechas y gran mortandad de peces"
          ],
          [
           "La más grande y duradera inundación en la historia reciente. Tanto o más como la de 1988. Esta vez trajo grandes desastres"
          ],
          [
           "Inundación de los municipios con vinculos y relaciones con la ciénaga. "
          ],
          [
           "Inundación de los municipios con vinculos y relaciones con la ciénaga. "
          ],
          [
           "Fuertes inundciones en los municipios con vinculos y relaciones con la ciénaga grande del bajo Sinú. "
          ],
          [
           "Inundaciones en la Ciénaga"
          ],
          [
           "metiendo agua inundando comunidades ribereñas como Cotoca Arriba, Palo de Agua, Nariño, El Playon, Cotoca Abajo y otros"
          ],
          [
           "Cada vez con más volumen y tiempo de inundación"
          ]
         ],
         "hovertemplate": "Categoría=Natural<br>Datetime1=%{base}<br>Datetime2=%{x}<br>Hecho=%{y}<br>Descripción=%{customdata[0]}<extra></extra>",
         "legendgroup": "Natural",
         "marker": {
          "color": "#00cc96",
          "pattern": {
           "shape": ""
          }
         },
         "name": "Natural",
         "offsetgroup": "Natural",
         "orientation": "h",
         "showlegend": true,
         "textposition": "auto",
         "type": "bar",
         "x": [
          31536000000,
          31622400000,
          31622400000,
          31536000000,
          31622400000,
          31536000000,
          31536000000,
          31536000000,
          31536000000
         ],
         "xaxis": "x",
         "y": [
          "La Creciente",
          "Primera afectación por Urrá",
          "La gran inundación",
          "Crecientes",
          "Crecientes",
          "Crecientes",
          "Crecientes",
          "Boca Nueva Colombia",
          "Crecientes"
         ],
         "yaxis": "y"
        }
       ],
       "layout": {
        "barmode": "overlay",
        "height": 600,
        "legend": {
         "title": {
          "text": "Categoría"
         },
         "tracegroupgap": 0
        },
        "margin": {
         "t": 60
        },
        "template": {
         "data": {
          "bar": [
           {
            "error_x": {
             "color": "#2a3f5f"
            },
            "error_y": {
             "color": "#2a3f5f"
            },
            "marker": {
             "line": {
              "color": "#E5ECF6",
              "width": 0.5
             },
             "pattern": {
              "fillmode": "overlay",
              "size": 10,
              "solidity": 0.2
             }
            },
            "type": "bar"
           }
          ],
          "barpolar": [
           {
            "marker": {
             "line": {
              "color": "#E5ECF6",
              "width": 0.5
             },
             "pattern": {
              "fillmode": "overlay",
              "size": 10,
              "solidity": 0.2
             }
            },
            "type": "barpolar"
           }
          ],
          "carpet": [
           {
            "aaxis": {
             "endlinecolor": "#2a3f5f",
             "gridcolor": "white",
             "linecolor": "white",
             "minorgridcolor": "white",
             "startlinecolor": "#2a3f5f"
            },
            "baxis": {
             "endlinecolor": "#2a3f5f",
             "gridcolor": "white",
             "linecolor": "white",
             "minorgridcolor": "white",
             "startlinecolor": "#2a3f5f"
            },
            "type": "carpet"
           }
          ],
          "choropleth": [
           {
            "colorbar": {
             "outlinewidth": 0,
             "ticks": ""
            },
            "type": "choropleth"
           }
          ],
          "contour": [
           {
            "colorbar": {
             "outlinewidth": 0,
             "ticks": ""
            },
            "colorscale": [
             [
              0,
              "#0d0887"
             ],
             [
              0.1111111111111111,
              "#46039f"
             ],
             [
              0.2222222222222222,
              "#7201a8"
             ],
             [
              0.3333333333333333,
              "#9c179e"
             ],
             [
              0.4444444444444444,
              "#bd3786"
             ],
             [
              0.5555555555555556,
              "#d8576b"
             ],
             [
              0.6666666666666666,
              "#ed7953"
             ],
             [
              0.7777777777777778,
              "#fb9f3a"
             ],
             [
              0.8888888888888888,
              "#fdca26"
             ],
             [
              1,
              "#f0f921"
             ]
            ],
            "type": "contour"
           }
          ],
          "contourcarpet": [
           {
            "colorbar": {
             "outlinewidth": 0,
             "ticks": ""
            },
            "type": "contourcarpet"
           }
          ],
          "heatmap": [
           {
            "colorbar": {
             "outlinewidth": 0,
             "ticks": ""
            },
            "colorscale": [
             [
              0,
              "#0d0887"
             ],
             [
              0.1111111111111111,
              "#46039f"
             ],
             [
              0.2222222222222222,
              "#7201a8"
             ],
             [
              0.3333333333333333,
              "#9c179e"
             ],
             [
              0.4444444444444444,
              "#bd3786"
             ],
             [
              0.5555555555555556,
              "#d8576b"
             ],
             [
              0.6666666666666666,
              "#ed7953"
             ],
             [
              0.7777777777777778,
              "#fb9f3a"
             ],
             [
              0.8888888888888888,
              "#fdca26"
             ],
             [
              1,
              "#f0f921"
             ]
            ],
            "type": "heatmap"
           }
          ],
          "heatmapgl": [
           {
            "colorbar": {
             "outlinewidth": 0,
             "ticks": ""
            },
            "colorscale": [
             [
              0,
              "#0d0887"
             ],
             [
              0.1111111111111111,
              "#46039f"
             ],
             [
              0.2222222222222222,
              "#7201a8"
             ],
             [
              0.3333333333333333,
              "#9c179e"
             ],
             [
              0.4444444444444444,
              "#bd3786"
             ],
             [
              0.5555555555555556,
              "#d8576b"
             ],
             [
              0.6666666666666666,
              "#ed7953"
             ],
             [
              0.7777777777777778,
              "#fb9f3a"
             ],
             [
              0.8888888888888888,
              "#fdca26"
             ],
             [
              1,
              "#f0f921"
             ]
            ],
            "type": "heatmapgl"
           }
          ],
          "histogram": [
           {
            "marker": {
             "pattern": {
              "fillmode": "overlay",
              "size": 10,
              "solidity": 0.2
             }
            },
            "type": "histogram"
           }
          ],
          "histogram2d": [
           {
            "colorbar": {
             "outlinewidth": 0,
             "ticks": ""
            },
            "colorscale": [
             [
              0,
              "#0d0887"
             ],
             [
              0.1111111111111111,
              "#46039f"
             ],
             [
              0.2222222222222222,
              "#7201a8"
             ],
             [
              0.3333333333333333,
              "#9c179e"
             ],
             [
              0.4444444444444444,
              "#bd3786"
             ],
             [
              0.5555555555555556,
              "#d8576b"
             ],
             [
              0.6666666666666666,
              "#ed7953"
             ],
             [
              0.7777777777777778,
              "#fb9f3a"
             ],
             [
              0.8888888888888888,
              "#fdca26"
             ],
             [
              1,
              "#f0f921"
             ]
            ],
            "type": "histogram2d"
           }
          ],
          "histogram2dcontour": [
           {
            "colorbar": {
             "outlinewidth": 0,
             "ticks": ""
            },
            "colorscale": [
             [
              0,
              "#0d0887"
             ],
             [
              0.1111111111111111,
              "#46039f"
             ],
             [
              0.2222222222222222,
              "#7201a8"
             ],
             [
              0.3333333333333333,
              "#9c179e"
             ],
             [
              0.4444444444444444,
              "#bd3786"
             ],
             [
              0.5555555555555556,
              "#d8576b"
             ],
             [
              0.6666666666666666,
              "#ed7953"
             ],
             [
              0.7777777777777778,
              "#fb9f3a"
             ],
             [
              0.8888888888888888,
              "#fdca26"
             ],
             [
              1,
              "#f0f921"
             ]
            ],
            "type": "histogram2dcontour"
           }
          ],
          "mesh3d": [
           {
            "colorbar": {
             "outlinewidth": 0,
             "ticks": ""
            },
            "type": "mesh3d"
           }
          ],
          "parcoords": [
           {
            "line": {
             "colorbar": {
              "outlinewidth": 0,
              "ticks": ""
             }
            },
            "type": "parcoords"
           }
          ],
          "pie": [
           {
            "automargin": true,
            "type": "pie"
           }
          ],
          "scatter": [
           {
            "fillpattern": {
             "fillmode": "overlay",
             "size": 10,
             "solidity": 0.2
            },
            "type": "scatter"
           }
          ],
          "scatter3d": [
           {
            "line": {
             "colorbar": {
              "outlinewidth": 0,
              "ticks": ""
             }
            },
            "marker": {
             "colorbar": {
              "outlinewidth": 0,
              "ticks": ""
             }
            },
            "type": "scatter3d"
           }
          ],
          "scattercarpet": [
           {
            "marker": {
             "colorbar": {
              "outlinewidth": 0,
              "ticks": ""
             }
            },
            "type": "scattercarpet"
           }
          ],
          "scattergeo": [
           {
            "marker": {
             "colorbar": {
              "outlinewidth": 0,
              "ticks": ""
             }
            },
            "type": "scattergeo"
           }
          ],
          "scattergl": [
           {
            "marker": {
             "colorbar": {
              "outlinewidth": 0,
              "ticks": ""
             }
            },
            "type": "scattergl"
           }
          ],
          "scattermapbox": [
           {
            "marker": {
             "colorbar": {
              "outlinewidth": 0,
              "ticks": ""
             }
            },
            "type": "scattermapbox"
           }
          ],
          "scatterpolar": [
           {
            "marker": {
             "colorbar": {
              "outlinewidth": 0,
              "ticks": ""
             }
            },
            "type": "scatterpolar"
           }
          ],
          "scatterpolargl": [
           {
            "marker": {
             "colorbar": {
              "outlinewidth": 0,
              "ticks": ""
             }
            },
            "type": "scatterpolargl"
           }
          ],
          "scatterternary": [
           {
            "marker": {
             "colorbar": {
              "outlinewidth": 0,
              "ticks": ""
             }
            },
            "type": "scatterternary"
           }
          ],
          "surface": [
           {
            "colorbar": {
             "outlinewidth": 0,
             "ticks": ""
            },
            "colorscale": [
             [
              0,
              "#0d0887"
             ],
             [
              0.1111111111111111,
              "#46039f"
             ],
             [
              0.2222222222222222,
              "#7201a8"
             ],
             [
              0.3333333333333333,
              "#9c179e"
             ],
             [
              0.4444444444444444,
              "#bd3786"
             ],
             [
              0.5555555555555556,
              "#d8576b"
             ],
             [
              0.6666666666666666,
              "#ed7953"
             ],
             [
              0.7777777777777778,
              "#fb9f3a"
             ],
             [
              0.8888888888888888,
              "#fdca26"
             ],
             [
              1,
              "#f0f921"
             ]
            ],
            "type": "surface"
           }
          ],
          "table": [
           {
            "cells": {
             "fill": {
              "color": "#EBF0F8"
             },
             "line": {
              "color": "white"
             }
            },
            "header": {
             "fill": {
              "color": "#C8D4E3"
             },
             "line": {
              "color": "white"
             }
            },
            "type": "table"
           }
          ]
         },
         "layout": {
          "annotationdefaults": {
           "arrowcolor": "#2a3f5f",
           "arrowhead": 0,
           "arrowwidth": 1
          },
          "autotypenumbers": "strict",
          "coloraxis": {
           "colorbar": {
            "outlinewidth": 0,
            "ticks": ""
           }
          },
          "colorscale": {
           "diverging": [
            [
             0,
             "#8e0152"
            ],
            [
             0.1,
             "#c51b7d"
            ],
            [
             0.2,
             "#de77ae"
            ],
            [
             0.3,
             "#f1b6da"
            ],
            [
             0.4,
             "#fde0ef"
            ],
            [
             0.5,
             "#f7f7f7"
            ],
            [
             0.6,
             "#e6f5d0"
            ],
            [
             0.7,
             "#b8e186"
            ],
            [
             0.8,
             "#7fbc41"
            ],
            [
             0.9,
             "#4d9221"
            ],
            [
             1,
             "#276419"
            ]
           ],
           "sequential": [
            [
             0,
             "#0d0887"
            ],
            [
             0.1111111111111111,
             "#46039f"
            ],
            [
             0.2222222222222222,
             "#7201a8"
            ],
            [
             0.3333333333333333,
             "#9c179e"
            ],
            [
             0.4444444444444444,
             "#bd3786"
            ],
            [
             0.5555555555555556,
             "#d8576b"
            ],
            [
             0.6666666666666666,
             "#ed7953"
            ],
            [
             0.7777777777777778,
             "#fb9f3a"
            ],
            [
             0.8888888888888888,
             "#fdca26"
            ],
            [
             1,
             "#f0f921"
            ]
           ],
           "sequentialminus": [
            [
             0,
             "#0d0887"
            ],
            [
             0.1111111111111111,
             "#46039f"
            ],
            [
             0.2222222222222222,
             "#7201a8"
            ],
            [
             0.3333333333333333,
             "#9c179e"
            ],
            [
             0.4444444444444444,
             "#bd3786"
            ],
            [
             0.5555555555555556,
             "#d8576b"
            ],
            [
             0.6666666666666666,
             "#ed7953"
            ],
            [
             0.7777777777777778,
             "#fb9f3a"
            ],
            [
             0.8888888888888888,
             "#fdca26"
            ],
            [
             1,
             "#f0f921"
            ]
           ]
          },
          "colorway": [
           "#636efa",
           "#EF553B",
           "#00cc96",
           "#ab63fa",
           "#FFA15A",
           "#19d3f3",
           "#FF6692",
           "#B6E880",
           "#FF97FF",
           "#FECB52"
          ],
          "font": {
           "color": "#2a3f5f"
          },
          "geo": {
           "bgcolor": "white",
           "lakecolor": "white",
           "landcolor": "#E5ECF6",
           "showlakes": true,
           "showland": true,
           "subunitcolor": "white"
          },
          "hoverlabel": {
           "align": "left"
          },
          "hovermode": "closest",
          "mapbox": {
           "style": "light"
          },
          "paper_bgcolor": "white",
          "plot_bgcolor": "#E5ECF6",
          "polar": {
           "angularaxis": {
            "gridcolor": "white",
            "linecolor": "white",
            "ticks": ""
           },
           "bgcolor": "#E5ECF6",
           "radialaxis": {
            "gridcolor": "white",
            "linecolor": "white",
            "ticks": ""
           }
          },
          "scene": {
           "xaxis": {
            "backgroundcolor": "#E5ECF6",
            "gridcolor": "white",
            "gridwidth": 2,
            "linecolor": "white",
            "showbackground": true,
            "ticks": "",
            "zerolinecolor": "white"
           },
           "yaxis": {
            "backgroundcolor": "#E5ECF6",
            "gridcolor": "white",
            "gridwidth": 2,
            "linecolor": "white",
            "showbackground": true,
            "ticks": "",
            "zerolinecolor": "white"
           },
           "zaxis": {
            "backgroundcolor": "#E5ECF6",
            "gridcolor": "white",
            "gridwidth": 2,
            "linecolor": "white",
            "showbackground": true,
            "ticks": "",
            "zerolinecolor": "white"
           }
          },
          "shapedefaults": {
           "line": {
            "color": "#2a3f5f"
           }
          },
          "ternary": {
           "aaxis": {
            "gridcolor": "white",
            "linecolor": "white",
            "ticks": ""
           },
           "baxis": {
            "gridcolor": "white",
            "linecolor": "white",
            "ticks": ""
           },
           "bgcolor": "#E5ECF6",
           "caxis": {
            "gridcolor": "white",
            "linecolor": "white",
            "ticks": ""
           }
          },
          "title": {
           "x": 0.05
          },
          "xaxis": {
           "automargin": true,
           "gridcolor": "white",
           "linecolor": "white",
           "ticks": "",
           "title": {
            "standoff": 15
           },
           "zerolinecolor": "white",
           "zerolinewidth": 2
          },
          "yaxis": {
           "automargin": true,
           "gridcolor": "white",
           "linecolor": "white",
           "ticks": "",
           "title": {
            "standoff": 15
           },
           "zerolinecolor": "white",
           "zerolinewidth": 2
          }
         }
        },
        "title": {
         "text": "Línea de tiempo"
        },
        "width": 800,
        "xaxis": {
         "anchor": "y",
         "domain": [
          0,
          1
         ],
         "range": [
          "2000-01-01",
          "2023-12-31"
         ],
         "title": {
          "text": "Fecha"
         },
         "type": "date"
        },
        "yaxis": {
         "anchor": "x",
         "domain": [
          0,
          1
         ],
         "title": {
          "text": "Hecho"
         }
        }
       }
      },
      "text/html": [
       "<div>                            <div id=\"a36074ff-a58d-4370-9caf-a8190973ca78\" class=\"plotly-graph-div\" style=\"height:600px; width:800px;\"></div>            <script type=\"text/javascript\">                require([\"plotly\"], function(Plotly) {                    window.PLOTLYENV=window.PLOTLYENV || {};                                    if (document.getElementById(\"a36074ff-a58d-4370-9caf-a8190973ca78\")) {                    Plotly.newPlot(                        \"a36074ff-a58d-4370-9caf-a8190973ca78\",                        [{\"alignmentgroup\":\"True\",\"base\":[\"1700-01-01T08:00:00\",\"1924-01-01T08:00:00\",\"1967-01-01T08:00:00\",\"1971-02-21T08:00:00\",\"1972-05-13T08:00:00\",\"1974-01-01T08:00:00\",\"1976-01-01T08:00:00\",\"1978-01-01T08:00:00\",\"1981-01-01T08:00:00\",\"1985-01-01T08:00:00\",\"1996-01-01T08:00:00\",\"1997-01-01T08:00:00\",\"1998-01-01T08:00:00\",\"1999-03-25T08:00:00\",\"2000-01-01T08:00:00\",\"2006-07-07T08:00:00\",\"2007-10-25T08:00:00\",\"2009-01-01T08:00:00\",\"2012-01-01T08:00:00\",\"2013-12-11T08:00:00\",\"2015-01-01T08:00:00\",\"2017-01-01T08:00:00\",\"2017-07-28T08:00:00\",\"2017-09-01T08:00:00\",\"2018-02-01T08:00:00\",\"2018-06-12T08:00:00\",\"2019-06-01T08:00:00\",\"2019-10-01T08:00:00\",\"2021-03-01T08:00:00\",\"2021-03-21T08:00:00\",\"2021-03-23T08:00:00\",\"2021-03-27T08:00:00\",\"2021-03-29T08:00:00\",\"2021-05-06T08:00:00\",\"2021-05-09T08:00:00\",\"2021-05-24T08:00:00\",\"2021-06-25T08:00:00\",\"2021-07-03T08:00:00\",\"2021-07-27T08:00:00\",\"2021-09-12T08:00:00\",\"2021-11-23T08:00:00\",\"2021-12-16T08:00:00\",\"2021-12-29T08:00:00\",\"2022-01-17T08:00:00\",\"2022-01-28T08:00:00\",\"2022-02-03T08:00:00\",\"2022-04-08T08:00:00\",\"2022-04-20T08:00:00\",\"2022-05-03T08:00:00\",\"2022-05-05T08:00:00\",\"2022-05-06T08:00:00\",\"2022-05-26T08:00:00\",\"2022-08-05T08:00:00\",\"2022-08-17T08:00:00\",\"2022-08-28T08:00:00\",\"2022-10-17T08:00:00\",\"2022-10-19T08:00:00\",\"2022-10-22T08:00:00\",\"2022-10-26T08:00:00\",\"2022-11-18T08:00:00\",\"2022-12-02T08:00:00\",\"2023-01-01T08:00:00\",\"2023-01-01T08:00:00\",\"2023-03-01T08:00:00\",\"2023-03-29T08:00:00\"],\"customdata\":[[\"Momil I - Momil II  desde 500 A.C hasta 1500 D.CConvivencia entre los pueblos prehispanicos de Mexi\\u00f3n pertenecientes a la cultura Zen\\u00fa \"],[\"Grupos de campesinos rompen cercas de alambre de p\\u00faa en la noche luego de que Torralvo se apropiara de los humedales donde cultivaban\"],[\"Creaci\\u00f3n de la Asociaci\\u00f3n Nacional de Usuarios Campesinos ANUC\"],[\"Recuperaci\\u00f3n y tomas de tierras y disputa de los humedales entre campesinos y terratenientes. En el marco de la convocatoria de La l\\u00ednea Sincelejo de la ANUC lidera la primera de muchas jornadas de recuperaci\\u00f3n masiva de tierras\"],[\"Gran recuperaci\\u00f3n de tierras en San Pablo\"],[\"Intento de recuperaci\\u00f3n\"],[\"Intento de recuperaci\\u00f3n\"],[\"El proceso hist\\u00f3rico de recuperaci\\u00f3n de tierras en la Ci\\u00e9naga\"],[\"Fecha hist\\u00f3rica en que 120 familias recuperaron tierras al terrateniente Elias Milane Calume\"],[\"INCORA expidi\\u00f3 el contrato de asignaci\\u00f3n N. 001 del 22 de febrero de 1985\"],[\"Muchas cr\\u00edticas hubo a la audiencia por las restricciones a la participaci\\u00f3n y como mecanismo que pretendi\\u00f3 validar falsamente la obra\"],[\"El ej\\u00e9rcito y paramilitares detuvieron la marcha que se dirig\\u00eda al Alto Sin\\u00fa. La concentraci\\u00f3n se mantuvo en el corregimiento de Palo de Agua\"],[\"Campesinado del Departamento de C\\u00f3rdoba se moviliza para protestar y buscar respuestas del gobierno nacional\"],[\"Sentencia T - 194 de 1999, con la cual, entre otras decisiones, se ordena a algunos entes municipales adelantar las actuaciones administrativas de su competenc\\u00a1a e initaurar las acciones procedentes para recuperar el dominio p\\u00fabl\\u00a1co sobre las \\u00e1reas de terreno de los cuerpos de agua que fueron desecados y apropiados por particulares.\"],[\"La marcha pudo avanzar s\\u00f3lo 4 kil\\u00f3metros y fue detenida bajo amenazas de violencia. \"],[\"Comunidades logran la declaratoria de \\u00e1rea protegida ambiental\"],[\"La movilizaci\\u00f3n social logra la creaci\\u00f3n del Distrito de Manejo Integrado Ci\\u00e9naga Grande\"],[\"Desalojo y violaci\\u00f3n a los derechos humanos de la policia contra campesinos en la vereda de las Arepas. \"],[\"ASPROSIG realiza un recorrido en bicicleta por la Ci\\u00e9naga para reconocer sus afectaciones con acompa\\u00f1amiento internacional como estrategia de mitigaci\\u00f3n del riesgo de la verifiaci\\u00f3n. Se encuentran m\\u00e1quinas trabajando lo que ser\\u00edan 12km de terraplenes 2 a\\u00f1os despu\\u00e9s.\"],[\"Logro de las comunidades de la margen izquierda en la declaraci\\u00f3n de la figura de protecci\\u00f3n ambiental\"],[\"En el a\\u00f1o 2015 se presentaron nuevos episodios de los enfrentamientos entre campesinos, polic\\u00edas del ESMAD, y el finquero-empresario El\\u00edas Milane Calume, por la ocupaci\\u00f3n de tierras en disputa de la denominada hacienda San Pablo del municipio de Cotorra. \"],[\"Organizaciones y comunidades inician movilizaci\\u00f3n social y jur\\u00eddica contra la construcci\\u00f3n de la \\\"Variante Lorica\\\" del Concesionario Ruta al mar\"],[\" Resoluci\\u00f3n 23603 del 28 de julio de 2017 donde la CVS ordena a los Personeros, Alcaldes y Concejales, que procedan de inmediato a: - Suspender toda obra de relleno v desecaci\\u00f3n de pantanos, ci\\u00e9naqas v humedales en el territorio de esos municipios. Salvedad hecha de las que sean indispensables para el saneamiento.\"],[\"En el Bajo Sin\\u00fa inicia el trabajo comunitario en el marco del proyecto\"],[\"En el mes de febrero se hace el primer recorrido por los sitios definidos para la investigaci\\u00f3n sobre Conflictos Territoriales en el Complejo Cenagoso del Bajo Sin\\u00fa.\"],[\"Comunidades de la margen izquierda logran creaci\\u00f3n de la figura de protecci\\u00f3n ambiental\"],[\"Nace El Movimiento Social el Agua Contando Historias en el marco del Diplomado del proyecto \\\"Transformemos\\\"\"],[\"El Movimiento social hace de forma aut\\u00f3noma la reconstrucci\\u00f3n del pol\\u00edgono della Ci\\u00e9naga de acuerdo a los mojones ubicados para la Resoluci\\u00f3n 010 de 1982\"],[\"Primer llamado a una mesa de trabajo por el Movimiento social el agua contando historias\"],[\"La dilincuencia est\\u00e1 arrecha ? El 19 del presente d\\u00eda del hombre en las primeras horas de la ma\\u00f1ana  en la parcela en Tierraltica me pescaron la represa con 600 bocachico de 10 meses y 30 icoteas del h\\u00e1bitat para su conservaci\\u00f3n y los bandidos depredadores del medio natural est\\u00e1n siendo perguidos por las autoridades y y vigilancia de la comunidad . Se\\u00f1ores agentes de la Polic\\u00eda nacional mano dura a la delincuencia organizada . Atte Gilberto Antonio Negrette L\\u00f3pez , Avisfacrul LoricA 22 , 03 , 2021 .\"],[\"Reporte sobre recuperaci\\u00f3n en Pimental y reflexiones sobre la lucha. Eugenio Ramos, asociado fundador de ASPROCIG contando la historia de los procesos de lucha por la tenencia de la tierra para Campesino en la Ci\\u00e9naga Grande del Bajo Sin\\u00fa\"],[\"Estos decomisos de Icotea ocurre cada a\\u00f1o y nunca e visto a una persona pagando pena por este delito.\"],[\"Reporte con fotos. Debido a la escasez de peces en nuestros humedales Ci\\u00e9nagas y r\\u00edos, nos toca comer rebortillo de babilla en esta semana santa\"],[\"Alcaldia de Cotorra, invierte recursos p\\u00fablicos en horas de Bulldozer para hacer camellones. Con el pretexto de protejer a la comunidad San Pablo y ahora la maquinaria est\\u00e1 taponeando m\\u00e1s de 50 has y secando el Canal Drenaje14 hacia el interior de las Ci\\u00e9nagas de Lata, Jolon hasta llegar a Charco Grande con una aproximaci\\u00f3n de 3 kil\\u00f3metros... Un S.O.S a la Procuradur\\u00eda Agraria y Ambiente de C\\u00f3rdoba y la CVS y de \\u00f3rganos control ambiental y Sociedad Civil que reprochando hoy el Vandalismo Institucional a la Naturaleza y los Ecosistemas\"],[\"En atenci\\u00f3n a los contantes y reiterados actos de Vandalismo en contra del Complejo Cenagagoso del Bajo Sin\\u00fa - CGBS en los diferentes municipios no Ci\\u00e9naga de Oro, Chima, Cotorra, Lorica, Pur\\u00edsima y Momil.  Estos \\\"V\\u00e1ndalos\\\" actos que tienen en un alto riesgo y en peligroso a este Ecosistemas por el desarrollo de Proyectos tales: 1. Ruta al Mar, Proyecto Vial (Doble Calzada y Variantes en municipio de Lorica) Consorcio El C\\u00f3ndor.2. Proyecto de infraestructura de Subasta Regional en el sector Palo de Agua - Cotoca Arriba (Lorica). Contrucci\\u00f3n de camellones. 3. Replanteamiento y extensi\\u00f3n de camellones en el Drenaje 14 hasta el interior de las Ci\\u00e9nagas de Lata, Jolon y Charco Grande con \\u00e1rea aproximado de 50 hect\\u00e1reas. Sector San Pablo - Cotorra.4. El desarrollo de acciones de represi\\u00f3n comercial y extorsiva a campesinos, pescadores y Comunidades \\u00c9tnicas en la restricci\\u00f3n de uso y aprovechamiento de los bienes naturales del ecosistema por el establecimiento de frontera o l\\u00edmite de propiedad privada en el bien p\\u00fablico.5. Acciones administrativas de las Entidades Territoriales los POT y EOT en la ampliaci\\u00f3n del crecimiento Poblacional y construcci\\u00f3n de viviendas y otros servicios p\\u00fablicos en \\u00e1rea de la Ci\\u00e9naga Grande del Bajo Sin\\u00fa.Se\\u00f1ores miembros y Representantes de las organizaciones filiares de Movimiento Social El Agua Contando Historias solicitamos respaldar est\\u00e1 iniciativa en destacar todas aquellas obras, proyectos, acciones administrativas p\\u00fablicas y hechos abusivos de terceros en contra de los derechos colectivos de las familias y Comunidades asentadas tradicionales en el Ecosistema.Estos aportes deben ser evidenciado con fotos o v\\u00eddeos y se debe describir el prop\\u00f3sito del hecho o la obra, su ubicaci\\u00f3n y la empresa o persona responsable. En este orden de idea, esperamos sus observaciones y recomendaciones sobre el particular.Gracias por su aporte!\"],[\"Enildo Cantero: La reuni\\u00f3n de ma\\u00f1ana es con los gremios organizados  municipio, con el objetivo de analizar la problem\\u00e1tica de la desecaci\\u00f3n de la ci\\u00e9naga grande de Lorica a ra\\u00edz de los acontecimientos que \\u00faltimamente se est\\u00e1n presentando con lo denunciado en el sector de la peinada,El lugar va  hacer el auditorio de la alcald\\u00eda Hora: 9:00 amD\\u00eda lunes 24 de mayo del 2021Esto es una iniciativa va ser liderada por iniciativa de las organizaciones civiles, comunitarias, ancestrales, acad\\u00e9micas, ambientalistas , como sonAfros- oarelAnuc- capitulo LoricaAsprocigAdemacorComunidad ind\\u00edgenasCTPUPDFedepec\"],[\"Buen d\\u00eda bendiciones para todos, ayer se concerto la mesa de Pesca Artesanal de la cuenca media y bajo Sinu, en reuni\\u00f3 en el d\\u00eda de ayer con el secretario Econ\\u00f3mico y Agroindustrial de la alcald\\u00eda de Lorica Jaider Torralvo, Pescadores Artesanales independientes de San Sebasti\\u00e1n y Lorica y miembros directivos de la Federaci\\u00f3n de Pescadores Artesanales y Productores Acu\\u00edcola de C\\u00f3rdoba FEDEPEC, donde se confirm\\u00f3 la asistencia del ministerio del medio ambiente, Urra, Aunap, Gobernaci\\u00f3n de C\\u00f3rdoba, CVS, Procuradur\\u00eda Agraria y ambiental, quedaron lagunas por confirmar en el d\\u00eda de hoy, se tratar\\u00e1n temas como:.                           1) Avances sobre el seguimiento de los municipios sobre el cumplimiento de la sentencia T 194\\u002f99, ante el gobernador de C\\u00f3rdoba en convocatoria del Comit\\u00e9 de Seguimiento de dicha sentencia.                               2) Implementaci\\u00f3n de programas que garant\\u00eda en la.seguridas  alimentaria dirigidas a la poblaci\\u00f3n Pesquera.            3) Acciones de Inmediato para resarcir el impacto ambiental del complejo Cenagozo del bajo Sinu y prevenirlas.         4) Implementaci\\u00f3n de Proyectos de Limpieza de Ca\\u00f1os interiores, reforestaci\\u00f3n de rondas h\\u00eddricas, manejos de residuos s\\u00f3lidos y Artes y equipos de pesca artesanal para los Pescadores Artesanales.                   5) Buscar acciones dirigidas al en mantener  un nivel adecuado de Aguas en el r\\u00edo Sinu en tiempos de lluvias para que el complejo de Ci\\u00e9nagas del bajo Sinu se mantengan con la siguiente cita de agua que conlleve a la entradas de peces, Alevinos y lavas.                   6) Implementaci\\u00f3n de repoblamiento de Alevinos en el complejo Cenagozo del bajo Sinu y fortaleciendo de momentos a las asociaciones de Pescadores Artesanales.          Espera reunirnos el lunes para concertar estos puntos y escoger los voceros que sustentar\\u00e1n el pliego de peticiones y concertaciones.                  Espero que la mayor\\u00eda que forman parte del sector Pesca Artesanal nos apoye en esta lucha que hemos llevado acabo desde d\\u00e9cadas y que no hemos podido avanzar, pongamos Fe en el Dios Todopoderoso que nos ayude a sacar est\\u00e1s iniciativas.  Dios tu qu\\u00e9 conoces los pensamientos del hombre te pido que act\\u00faes en el nombre de nuestro se\\u00f1or Jesucristo Amen. Muchas gracias los AMO mucho..............\"],[null],[\"Se hace seguimiento en reuni\\u00f3n virtual y se reiteran compromisos para convocatoria a mesas\"],[\"La Coordinaci\\u00f3n del Movimiento solicita a la Procuradur\\u00eda acompa\\u00f1amiento para jornada de socializaci\\u00f3n y lista propuestas\"],[\"Movimiento Social El Agua Contando Historias. Destaca el acompa\\u00f1amiento de Dra. Lina Correa (Procuradora Delegados Agraria y Ambiental de C\\u00f3rdoba) y Profesor Antonio Lemus (Coordinador Gral RPG Pueblo Zen\\u00fa).  Concretando acciones preparatorias a la IV Mesa T\\u00e9cnica de Trabajo, el pr\\u00f3ximo 23 de Noviembre, en el municipio de San Pelayo (C\\u00f3rdoba). En el marco de las acciones de cumplimiento de Resoluci\\u00f3n Defensorial #058 de 2011, Sentencia# T-194 de 1999 y Resoluci\\u00f3n#010 de 1982 (INCORA - ANT)\"],[\"33 personas representantes del Movimiento participan con la Defensor\\u00eda en un taller de an\\u00e1lisis y reflexi\\u00f3n de las problem\\u00e1ticas del Bajo Sin\\u00fa como preparaci\\u00f3n a las mesas t\\u00e9cnicas que se adelantan con las instituciones.\"],[\"Buen d\\u00eda bendiciones, en el d\\u00eda de ayer se celebr\\u00f3 la reuni\\u00f3n del Movimiento social El Agua Contando Historia y un grupo de l\\u00edderes de los Ci\\u00e9nagas de Corralito, La Pacha, Ba\\u00f1o- Los Negros, Charco Pescao, Chamba y Ca\\u00f1o de la Balsa, muy importante la descripci\\u00f3n de las probleaticas esperamos tener la informaci\\u00f3n necesaria para buscar soluciones a las mismas.\"],[\"La Coordinaci\\u00f3n del Movimiento invita a establecer alianzas entre las organizaciones en los temas clave que sigue el proceso organizativo\"],[\"Atendiendo convocatoria de la Gobernaci\\u00f3n de C\\u00f3rdoba, se postulan delegados para la construcci\\u00f3n de la pol\\u00edtica departamental de poblaci\\u00f3n campesina\"],[\"El IGAC acogi\\u00f3 concepto de la Procuradur\\u00eda y confirm\\u00f3 decisi\\u00f3n de no acceder a la inscripci\\u00f3n catastral del predio Villa Eva de 500 hect\\u00e1reas en Lorica, al considerar que est\\u00e1 localizado al interior de un humedal, Lo reclama un se\\u00f1or que se llama Jose Tomas Sierra Arias,y el abogado se llama Jes\\u00fas Arrazola Paternina. \"],[\"El Movimiento Social El Agua Contando Historias, c\\u00f3mo colectivo social de organizaciones del Complejo Cenagagoso del Bajo Sin\\u00fa, desarrollo de manera exitosa la IV Mesa T\\u00e9cnica de Trabajo - Comisi\\u00f3n TierraEvento que se desarrollo con la participaci\\u00f3n del Director de la Gesti\\u00f3n Jur\\u00eddica de la Agencia Nacional e Tierras (ANT), Defensor del Pueblo Departamental, Secretaria de Gobierno Municipal y funcionarios de la CVS en representaci\\u00f3n de la Institucionalidad. El prop\\u00f3sito de esta convocatoria se centro en la presentaci\\u00f3n de informe sobre la reconstrucci\\u00f3n del expediente de la Resoluci\\u00f3n #010 de 1982 para determinar la  CLARIFICACI\\u00d3N DE LA PROPIEDAD EN PREDIOS COLINDANTES CON CI\\u00c9NAGAS, LAGOS Y ZONAS DE RESERVA FORESTAL \\u2013 RECUPERACI\\u00d3N DE BALDIOS INDEBIDAMENTE OCUPADOS \\u2013 CCBS, de conformidad a la Resoluci\\u00f3n Defensorial #058 de 2010, Sentencia T-194 de 1999 y Resoluci\\u00f3n #010 de 1982. Cotoca Arriba (Lorica)\"],[\"Trabajo organizativo a nivel interno del Movimiento Social\"],[\"en el Municipio de Monter\\u00eda\"],[\"Mesa T\\u00e9cnica de Trabajo, Comisi\\u00f3n Ambiental y Ordenamiento Territorial, San Pablo Cotorra. Entidades convocadas Alcald\\u00eda Municipal de Cotorra, CVS, Procuradur\\u00eda Agraria y ambiental, Defensor\\u00eda del Pueblo y Personer\\u00eda Municipal de Cotorra.\"],[\"Foro \\\"Reflexi\\u00f3n sobre la situaci\\u00f3n del R\\u00edo Sin\\u00fa y su importancia como eje de desarrollo econ\\u00f3mico, cultural y ambiental\\\" Convoca; Defensor\\u00eda del Pueblo y La Alianza Global de las Instituciones Nacionales de Derechos Humanos - GANHRI. Conversatorio que se realizar\\u00e1 el pr\\u00f3ximo 6 de mayo (Plaza Cultura - Malec\\u00f3n) Monter\\u00eda a partir de las 8:30 a.m.\"],[\"En la Plaza Maria Varilla se dieron cita el Movimiento Social e instituciones para el Foro y socializaci\\u00f3n del Informe Defensorial sobre el r\\u00edo Sin\\u00fa\"],[\"En medio de las crecientes el Defensor  Nacional del Pueblo visita la vereda Cotoc\\u00e1 Arriba\"],[\"Hoy nos reunimos la sociedad civil organizada, como FEDEPEC, ANUC, ASPROCIG, ASJUNTAS MI, CTP, Veedur\\u00eda VOz popoli, V\\u00edctimas, Agua contando historias, defensores de DDHH, para reactivar la Mesa permanente de la cuenca en el Bajo Sin\\u00fa, donde hablamos de la situaci\\u00f3n que estamos viviendo por la ola invernal.\"],[\"Luego de la reuni\\u00f3n, el grupo participante de organizaciones emite comunicado\"],[\"Socializaci\\u00f3n del Movimiento en el Grupo de apoyo en Colombia a la V\\u00eda Campesina\"],[\"Las organizaciones siguen movilizadas en contra del proyecto. Se reunen para analizar el escenario jur\\u00eddico actual.\"],[\"Se convoca a tod@s los integrantes de la Mesa Regional de Crisis Clim\\u00e1tica a una reuni\\u00f3n que se celebrar\\u00e1 el S\\u00e1bado 22 de Octubre del 2022 apartir de las 8:30am en la Universidad de C\\u00f3rdoba sede Lorica, El objetivo es conocer la realidades del proyecto VARIANTE A LORICA, con la participaci\\u00f3n del Dr Manuel Salvador Nule Renals, no se quede en casa, vamos TODOS a participar por qu\\u00e9 en verdad LORICA y el bajo Sinu necesita la variante, pero tambi\\u00e9n necesita saber como se realizado este proceso.\"],[\"Defensor\\u00eda acompa\\u00f1a espacio de socializaci\\u00f3n de avances del proceso de deslinde por parte de la ANT\"],[\"El Movimiento Social participa en la movilizaci\\u00f3n campesina en el hist\\u00f3rico lugar para el campesinado\"],[\"Participaci\\u00f3n del Movimiento en la Convenci\\u00f3n que entreg\\u00f3 documento de propuestas para el Plan de Desarrollo\"],[\"Se vincula inicialmente a las reuniones semanales\"],[\"El bajo Sin\\u00fa ya estaba vinculado desde la lucha de Urr\\u00e1. Se retoma este v\\u00ednculo por las nuevas amenazas con el proyecto de puerto de aguas profundas en Tol\\u00fa\"],[\"La Corte llam\\u00f3 a cuentas a las instituciones y se dio la orden de cumplimiento por desacato, lo cual puso en riesgo de detenci\\u00f3n al gobernador de C\\u00f3rdoba\"],[\"Las instituciones dieron informaci\\u00f3n al Movimiento sobre el estado de avance en la gesti\\u00f3n del caso y la validaci\\u00f3n de la informaci\\u00f3n aportada\"]],\"hovertemplate\":\"Categor\\u00eda=Movimiento\\u003cbr\\u003eDatetime1=%{base}\\u003cbr\\u003eDatetime2=%{x}\\u003cbr\\u003eHecho=%{y}\\u003cbr\\u003eDescripci\\u00f3n=%{customdata[0]}\\u003cextra\\u003e\\u003c\\u002fextra\\u003e\",\"legendgroup\":\"Movimiento\",\"marker\":{\"color\":\"#636efa\",\"pattern\":{\"shape\":\"\"}},\"name\":\"Movimiento\",\"offsetgroup\":\"Movimiento\",\"orientation\":\"h\",\"showlegend\":true,\"textposition\":\"auto\",\"x\":[31536000000.0,31622400000.0,31536000000.0,31536000000.0,31536000000.0,31536000000.0,31622400000.0,0.0,0.0,31536000000.0,0.0,31536000000.0,31536000000.0,31622400000.0,31622400000.0,31536000000.0,31622400000.0,31536000000.0,31622400000.0,31536000000.0,31536000000.0,31536000000.0,31536000000.0,31536000000.0,31536000000.0,31536000000.0,31622400000.0,31622400000.0,31536000000.0,31536000000.0,31536000000.0,31536000000.0,31536000000.0,31536000000.0,31536000000.0,31536000000.0,31536000000.0,31536000000.0,31536000000.0,31536000000.0,31536000000.0,31536000000.0,31536000000.0,31536000000.0,31536000000.0,31536000000.0,31536000000.0,31536000000.0,31536000000.0,31536000000.0,31536000000.0,31536000000.0,31536000000.0,31536000000.0,31536000000.0,31536000000.0,31536000000.0,31536000000.0,31536000000.0,31536000000.0,1123200000.0,86400000.0,86400000.0,86400000.0,86400000.0],\"xaxis\":\"x\",\"y\":[\"Cultura Zen\\u00fa\",\"Macheteros rompen alambres de p\\u00faa del General Torralvo\",\"ANUC\",\"Recuperaciones de tierras en Chim\\u00e1 y  Ci\\u00e9naga de oro\",\"Gran recuperaci\\u00f3n de tierras en San Pablo\",\"Intento de recuperaci\\u00f3n\",\"Intento de recuperaci\\u00f3n\",\"Hora cero de la Ci\\u00e9naga\",\"Recuperaciones de tierras en San Pablo\",\"Primer comodato\",\"Audiencia p\\u00fablica Urr\\u00e1\",\"Primera marcha contra Urr\\u00e1\",\"Marcha a Bogot\\u00e1\",\"Sentencia T-194\",\"Nueva marcha a las oficinas de urr\\u00e1\",\"DMI Bah\\u00eda de Cispat\\u00e1\",\"DMI Ci\\u00e9naga Grande\",\"Intento de desalojo en la parcelaci\\u00f3n Las Arepas\",\"Recorrido en bicicleta por los humedales halla 12 kil\\u00f3metros de terraplenes\",\"Ci\\u00e9naga de Ba\\u00f1\\u00f3 Distrito de conservaci\\u00f3n de suelos\",\"Enfrentamientos con ESMAD en San Pablo\",\"Movilizaci\\u00f3n ante anuncio del Proyecto Variante Lorica\",\"CVS ordena frenar obras\",\"Inicia proyecto \\\"Transformemos\\\"\",\"Recorridos Proyecto Transformemos\",\"Ci\\u00e9naga de Los Negros Distrito de conservaci\\u00f3n de suelos\",\"Nace Movimiento Social\",\"Levantamiento mapa amojonamiento\",\"Movimiento convoca por 1a vez\",\"Movimiento denuncia robos a acuicultores\",\"Reporte recuperaci\\u00f3n Pimental\",\"Reporte sobre falta de efectividad en decomisos de hicotea\",\"Reporte escasez de peces\",\"Denuncia camellones Alcad\\u00eda de Cotorra\",\"Campa\\u00f1a denuncia \",\"Organizaci\\u00f3n sobre desecaciones La Peinada\",\"Peticiones en Mesa de pesca artesanal Bajo y Medio Sin\\u00fa\",\"Audiencia Resoluci\\u00f3n #058 Defensor\\u00eda \",\"Seguimiento Audiencia\",\"Comunicado Movimiento con solicitudes\",\"IV mesa t\\u00e9cnica del Bajo Sin\\u00fa\",\"Taller con Defensor\\u00eda en Monter\\u00eda\",\"Reuni\\u00f3n interna del Movimiento\",\"Convocatoria interna de alianzas\",\"Movimiento participa en Pol\\u00edtica campesina\",\"IGAC protege Complejo Cenagoso\",\"IV mesa t\\u00e9cnica del Bajo Sin\\u00fa\",\"Mesa de trabajo Comisi\\u00f3n ordenamiento\",\"Reuni\\u00f3n t\\u00e9cnica con la direcci\\u00f3n de Restituci\\u00f3n de Tierras \",\"Mesa T\\u00e9cnica de Trabajo\",\"Foro Reflexi\\u00f3n sobre la situaci\\u00f3n del R\\u00edo Sin\\u00fa\",\"Foro y entrega informe defensorial\",\"Visita Defensor del Pueblo a Cotoc\\u00e1\",\"Por la reactivaci\\u00f3n Mesa permanente del Sin\\u00fa\",\"Primer comunicado Mesa permanente de la cuenca del Bajo Sin\\u00fa\",\"Socializaci\\u00f3n Movimiento en V\\u00eda campesina\",\"Reuni\\u00f3n de organizaciones contra Variante Lorica\",\"Mesa regional de Crisis clim\\u00e1tica\",\"Socializaci\\u00f3n proceso de deslinde\",\"Movilizaci\\u00f3n campesina en Sincelejo\",\"Convenci\\u00f3n Nacional Campesina\",\"Vinculaci\\u00f3n del MSACH al grupo de apoyo a la V\\u00eda Campesina\",\"Vinculaci\\u00f3n del MSACH al Movimiento de afectados por las represas\",\"Audiencia p\\u00fablica de seguimiento a la Sentencia T-194 de 1999\",\"Mesa t\\u00e9cnica de la ANT, IGAC, Procuradur\\u00eda, CVS\"],\"yaxis\":\"y\",\"type\":\"bar\"},{\"alignmentgroup\":\"True\",\"base\":[\"1700-01-01T08:00:00\",\"1700-01-01T08:00:00\",\"1700-01-01T08:00:00\",\"1700-01-01T08:00:00\",\"1702-01-01T08:00:00\",\"1773-01-01T08:00:00\",\"1862-01-01T08:00:00\",\"1880-01-01T08:00:00\",\"1887-01-01T08:00:00\",\"1905-01-01T08:00:00\",\"1920-01-01T08:00:00\",\"1924-01-01T08:00:00\",\"1936-01-01T08:00:00\",\"1942-01-01T08:00:00\",\"1942-06-13T08:00:00\",\"1955-01-01T08:00:00\",\"1961-01-01T08:00:00\",\"1982-01-01T08:00:00\",\"1982-02-11T08:00:00\",\"1989-01-01T08:00:00\",\"1991-01-01T08:00:00\",\"1993-07-22T08:00:00\",\"1994-01-01T08:00:00\",\"1996-01-13T08:00:00\",\"1998-01-01T08:00:00\",\"1999-04-24T08:00:00\",\"2000-03-01T08:00:00\",\"2001-01-01T08:00:00\",\"2001-06-02T08:00:00\",\"2001-07-23T08:00:00\",\"2005-01-18T08:00:00\",\"2008-01-01T08:00:00\",\"2015-01-01T08:00:00\",\"2017-07-18T08:00:00\",\"2018-01-11T08:00:00\",\"2019-05-21T08:00:00\",\"2020-02-07T08:00:00\",\"2021-05-07T08:00:00\",\"2021-08-25T08:00:00\",\"2021-08-30T08:00:00\",\"2021-09-05T08:00:00\",\"2021-12-16T08:00:00\",\"2021-12-21T08:00:00\",\"2022-03-21T08:00:00\",\"2022-01-21T08:00:00\",\"2022-04-01T08:00:00\",\"2022-05-07T08:00:00\",\"2022-08-11T08:00:00\",\"2022-09-26T08:00:00\"],\"customdata\":[[\"Llegada de los hermanos Pedro y Alonso de Heredia a la regi\\u00f3n. \"],[\"Encomienda de San Andres y delimitaci\\u00f3n del resguardo \"],[\"Confirmaci\\u00f3n y amparo del resguardo de San Andres el 3 de marzo.\"],[\"Fundaci\\u00f3n de San Sebastian de Urab\\u00e1 al otro lado de la ci\\u00e9naga. \"],[\"Fundaci\\u00f3n de San Jose de Momil \"],[\"Deslide Colonial de las tierras. Expedici\\u00f3n de la escritura madre del resguardo de San Andres \"],[\"En Ci\\u00e9naga de Oro, se estableci\\u00f3 la Casa Burgos desde 1862 que desarroll\\u00f3 la hacienda Ber\\u00e1stegui, donde llegaron a pastar hasta 20.000 cabezas de ganado. Con est\\u00e1 ganader\\u00eda de inicio la siembra de hierba par\\u00e1 o admiravle, donde se inici\\u00f3 la expansi\\u00f3n de los potreros en el Sin\\u00fa.\"],[\"Los \\\"blancos\\\" empezaron a romper los limites del resguardo\"],[\"En Lorica la casa comercial de Diego Mart\\u00ednez y Compa\\u00f1\\u00eda, alcanz\\u00f3 a adecuar 40.000 hect\\u00e1reas en el Valle del Sin\\u00fa; con la Casa de Lorica compraba ganado, lo criaba, lo cebaba y lo vend\\u00eda en el interior del pa\\u00eds\"],[\"La Naci\\u00f3n ratifica y confirma las declaratorias judicial y legalmente hechas, de estar vacantes globos de terrenos conocidos como Resguardos de ind\\u00edgenas, as\\u00ed como tambi\\u00e9n la ventas de ellas efectuadas en subasta p\\u00fablica; y reconoce como t\\u00edtulo legal de propiedad de esos terrenos el adquirido por sus rematadores.\"],[\"Llegada de la South American Gult Oil Company SAGOC, primera empresa exploradora de petroleo. \"],[\"Se meti\\u00f3 con los campesinos de Los Morales abajo de Cotorra. \\\"Puso una rancha en medio, bautiz\\u00e1ndola como San Pablo\\\"\"],[\"Expedici\\u00f3n de la Ley de tierras y sus repercusiones. Ley 200\"],[\"Los Senadores Fabio Am\\u00edn y Miguel de la Espriella solicitan un plan de intervenci\\u00f3n al gobierno central\"],[\"El 13 de junio se produjo el desvio del r\\u00edo Sin\\u00fa (Tinajones) de su desembocadura natural (Cispat\\u00e1) y  empez\\u00f3 la desecaci\\u00f3n del delta y la zona de estuarios. La polic\\u00eda desaloja, atropella y destruye las viviendas de 170 capesinos organizados que hab\\u00edan tomado posesi\\u00f3n en tierras del delta. \"],[\"El gobierno colombiano contrat\\u00f3 un estudio con la firma norteamericana Tipton and Kalmbach Inc., experta en ingenier\\u00eda hidr\\u00e1ulica, irrigaci\\u00f3n y drenaje con el objetivo de buscar una soluci\\u00f3n a ese problema. En su reporte final, la firma concluy\\u00f3 que en el caso del Sin\\u00fa exist\\u00edan m\\u00e1s de 300.000 hect\\u00e1reas que se deber\\u00edan secar para expandir la agricultura, especialmente de algod\\u00f3n para exportaci\\u00f3n. Adem\\u00e1s, la firma aconsej\\u00f3 construir una represa en la parte alta del r\\u00edo para controlar las inundaciones aguas abajo.\"],[\"Ley 135 de 1961 expropiaci\\u00f3n , adjudicaciones a campesinos.Nace el Instituto Colombia de la Reforma Agraria INCORA.\"],[\"Disputa por la tierra en la finca el Higal del municipio de Ci\\u00e9naga de Oro. Detenidos, heridos y atropellos a los campesinos por parte de la polic\\u00eda. \"],[\"Sin embargo, tan solo mediante las resoluciones 010 del 11 de febrero de 1982 y 034 del 21 de julio de 1983, la junta directiva del INCORA, deslind\\u00f3 los terrenos que conforman la Ci\\u00e9naga Grande dentro de los Municipios de Lorica, Momil, Chim\\u00e1, Pur\\u00edsima y Ci\\u00e9naga de Oro, en el departamento de C\\u00f3rdoba, con una extensi\\u00f3n aproximada de 38.843 hect\\u00e1reas 2.000 metros cuadrados.\"],[null],[\"Mataron a Julio Moreno quien fuera el primer presidente de ASPROSIG (Asociaci\\u00f3n de Productores Ecol\\u00f3gicos del bajo Sin\\u00fa), su padre era Alfonso Moreno dirigente de FANAL.  \"],[\"Iniciaci\\u00f3n de las obras civiles del proyecto Urr\\u00e1 despu\\u00e9s que El INDERENA aprobara la Licencia Ambiental para la etapa de construcci\\u00f3n del Proyecto Multiprop\\u00f3sito\"],[\" Movimientos campesinos logran la promulgaci\\u00f3n del Decreto 2663 de 1994 Procedimiento de deslinde de tierras de propiedad de la naci\\u00f3n\"],[\"Desviaci\\u00f3n del r\\u00edo Sin\\u00fa en la Angostura de Urr\\u00e1, necesaria para la construcci\\u00f3n de la Presa.\"],[\"Articulo 1998 dice que Zulema Jattin presentaria propuesta de Ley para crear parque en la Ci\\u00e9naga \"],[\"Lider ind\\u00edgena Embera Kat\\u00edo asesinado por paramilitares por oponerse a Urr\\u00e1\"],[\"Ante la persecuci\\u00f3n desatada hubo m\\u00faltiples desplazamientos y homicidios\"],[\"Se estrechan lazos con organizaciones de Suiza, Francia, Espa\\u00f1a\"],[\"Fue secuestrado por paramilitares y desaparecido. En 2023 Salvatore Mancuso dijo que hab\\u00eda sido arrojado al r\\u00edo Sin\\u00fa\"],[\"Pol\\u00edticos, empresarios y paramilitares firman pacto para \\\"Refundar la patria\\\" y tomar cargos del Estado\"],[\"En Santaf\\u00e9 de Ralito, municipio de Tierralta, C\\u00f3rdoba\"],[\"Aparecen panfletos y grafittis en la regi\\u00f3n de Urab\\u00e1. Posteriormente en varios departamentos del pa\\u00eds\"],[\"Expulsi\\u00f3n y prohibici\\u00f3n para transitar a los lideres comunitarios y ONG en  territorios de la ci\\u00e9naga grande, por presuntos hombres armados pertenecientes a la seguridad privada de la denominada finca TEXAS frente a los municipios de Chim\\u00e1 y M\\u00f3mil. \"],[\"Informe estado de procesos agrarios de deslinde y recuperaci\\u00f3n adelantados sobre la Ci\\u00e9naga Grande del Bajo Sin\\u00fa \"],[\"El 11 de enero el Tribunal Superior de C\\u00f3rdoba orden\\u00f3 suspender las obras de ejecuci\\u00f3n del proyecto variante Lorica, sobre las areas que afectan el complejo cenagoso del Bajo Sin\\u00fa. \"],[\"Auto 710 del 21 de mayo de 2019 de la ANT que cierra la actuaci\\u00f3n administrativa de reconstrucci\\u00f3n  del  expediente  del  proceso  agrario  de  deslinde  adelantado  sobre  terrenos  que conforman la CGBS.\"],[\"Acuerdo entre los Departamentos de C\\u00f3rdoba, Sucre, Bol\\u00edvar para inversi\\u00f3n en desarrollo tur\\u00edstico, salud, productiva y en educaci\\u00f3n\"],[\"A $ 30.000 el quintal, para colaborarle a nuestros amigos Campesinos de la margen Izquierda, que tienen sus cosechas sin vender\"],[\"Art\\u00edculo y video compartido sobre afectaci\\u00f3n por crecientes\"],[\"Ante crecientes, Urr\\u00e1 decide apagar una de sus turbinas para disminuir caudal r\\u00edo abajo\"],[\"Buenas noches bendiciones, gracias a Dios hoy terminamos de tapar el Boquete en el punto cr\\u00edtico Nueva Colombia en COTOCA Arriba\"],[\"Este es el tercer muro de contenci\\u00f3n que se hunde en las riberas del Sin\\u00fa. El primero fue en la vereda Sarandelo, el pasado 22 de noviembre; el segundo el de Los G\\u00f3mez, cuya noticia fue divulgada el pasado 10 de diciembre; y ahora ocurre lo mismo en Nueva Colombia, Cotoc\\u00e1 Arriba, tambi\\u00e9n en Lorica. Lo hab\\u00eda construido la UNGRD\"],[\"Ministro en visita anuncia inversi\\u00f3n de 51.600 millones de pesos en diferentes proyectos para restauraci\\u00f3n ecol\\u00f3gica de zonas degradadas y a la mitigaci\\u00f3n de los riesgos en C\\u00f3rdoba.\"],[\"El Tribunal orden\\u00f3 cambios en el dise\\u00f1o al Ministerio de Transporte y a la Concesi\\u00f3n Ruta al Mar. Las dos entidades decidieron desistir del proyecto e invertir en el mejoramiento de la v\\u00eda principal de Lorica\"],[\"Se barajan varios candidatos para representar al Departamento\"],[\"Graves afectaciones a los derechos humanos por la demostraci\\u00f3n de poder del grupo armado tras golpes contra sus estructuras por parte del Estado colombiano\"],[\"Dado el agravamiento de la situaci\\u00f3n se suspenden las actividades comunitarias\"],[\"La decisi\\u00f3n cierra definitivamente la prentesi\\u00f3n de\"],[\"La propuesta gener\\u00f3 reacci\\u00f3n inmediata en el Movimiento\"]],\"hovertemplate\":\"Categor\\u00eda=Contexto\\u003cbr\\u003eDatetime1=%{base}\\u003cbr\\u003eDatetime2=%{x}\\u003cbr\\u003eHecho=%{y}\\u003cbr\\u003eDescripci\\u00f3n=%{customdata[0]}\\u003cextra\\u003e\\u003c\\u002fextra\\u003e\",\"legendgroup\":\"Contexto\",\"marker\":{\"color\":\"#EF553B\",\"pattern\":{\"shape\":\"\"}},\"name\":\"Contexto\",\"offsetgroup\":\"Contexto\",\"orientation\":\"h\",\"showlegend\":true,\"textposition\":\"auto\",\"x\":[31536000000.0,31536000000.0,31536000000.0,31536000000.0,31536000000.0,31536000000.0,31536000000.0,31622400000.0,31536000000.0,31536000000.0,31622400000.0,31622400000.0,31622400000.0,31536000000.0,31536000000.0,31536000000.0,31536000000.0,31536000000.0,31536000000.0,31536000000.0,31536000000.0,31536000000.0,31536000000.0,31622400000.0,31536000000.0,31622400000.0,31536000000.0,31536000000.0,31536000000.0,31536000000.0,31536000000.0,31622400000.0,31536000000.0,31536000000.0,31536000000.0,31622400000.0,31622400000.0,31536000000.0,31536000000.0,31536000000.0,31536000000.0,31536000000.0,31536000000.0,31536000000.0,31536000000.0,2592000000.0,31536000000.0,31536000000.0,31536000000.0],\"xaxis\":\"x\",\"y\":[\"Hermanos Heredia\",\"Encomienda\",\"Resguardo San Andr\\u00e9s\",\"Fundaci\\u00f3n San Sebasti\\u00e1n de Urab\\u00e1\",\"Fundaci\\u00f3n Momil\",\"Deslinde de tierras\",\"Casa Burgos\",\"Invasi\\u00f3n de \\\"blancos\\\" al Resguardo\",\"Cas Comercial Diego Mart\\u00ednez & Cia\",\"Ley 55 de 1905\",\"Exploraci\\u00f3n petr\\u00f3leo\",\"General Torralvo toma 70 Has\",\"Ley 200\",\"Senadores solicitan proyecto Plan Tipton\",\"Desv\\u00edo del r\\u00edo Sin\\u00fa\",\"Plan Tipton\",\"Ley 135\",\"Disputa por la tierra en la finca el Higal\",\"Resoluci\\u00f3n 010 de 1982 INCORA\",\"Proyecto represa de Urr\\u00e1\",\"Homicidio de Julio Moreno\",\"Inicio obras p\\u00fablicas Urr\\u00e1\",\"Procedimiento de deslinde\",\"Urr\\u00e1 desv\\u00eda el r\\u00edo Sin\\u00fa\",\"Zulema Jattin propone crear parque\",\"Homicidio Lucindo Domic\\u00f3\",\"Desplazamientos y exilios \",\"Desconfianza y gesti\\u00f3n en nivel nacional e internacional\",\"Desaparici\\u00f3n de Kimi Pern\\u00eda\",\"Pacto de Ralito\",\"Desmovilizaci\\u00f3n Bloque C\\u00f3rdoba\",\"Aparici\\u00f3n p\\u00fablica Clan del Golfo\",\"Control armado en Finca Texas ubicada en el Zapal de Momil en la Zona Norte del Complejo Cenagoso\",\"Informe ANT procesos agrarios\",\"Tribunal suspende Variante Lorica\",\"ANT declara p\\u00e9rdida expediente\",\"Pacto del Golfo de Morrosquillo\",\"Crisis de Campesinos margen izquierda\",\"Crecientes afectan Sarandelo\",\"Urr\\u00e1 apaga una de sus turbinas\",\"Campesinos cierran boquete en Cotoc\\u00e1 Arriba\",\"Se derrumba muro de contenci\\u00f3n en Nueva Colombia\",\"Ministerio de Medio Ambiente anuncia inversi\\u00f3n en proyectos ambientales\",\"Consejo de Estado ordena cambio en Variante Lorica\",\"Candidaturas al Congreso\",\"Paro armado del Clan del Golfo\",\"Se suspenden actividades por paro armado\",\"Consejo de Estado dice NO a Urr\\u00e1 II\",\"Alerta por propuesta de canal alterno de desembocadura\"],\"yaxis\":\"y\",\"type\":\"bar\"},{\"alignmentgroup\":\"True\",\"base\":[\"1988-08-01T08:00:00\",\"1996-01-01T08:00:00\",\"2007-08-01T08:00:00\",\"2010-08-01T08:00:00\",\"2011-08-01T08:00:00\",\"2017-08-01T08:00:00\",\"2021-08-01T08:00:00\",\"2022-05-07T08:00:00\",\"2022-08-01T08:00:00\"],\"customdata\":[[\"Recordada como una de las m\\u00e1s grandes de la \\u00e9poca contempor\\u00e1nea. Consideradas bendiciones.\"],[\"Fue algo devastador para la cuenca baja, pues all\\u00ed penetr\\u00f3 con mucha fuerza La cu\\u00f1a salina en los suelos del delta, disminuyendo dr\\u00e1sticamente los caudales en todo el complejo lagunar y ocasion\\u00f3 la p\\u00e9rdida de cosechas y gran mortandad de peces\"],[\"La m\\u00e1s grande y duradera inundaci\\u00f3n en la historia reciente. Tanto o m\\u00e1s como la de 1988. Esta vez trajo grandes desastres\"],[\"Inundaci\\u00f3n de los municipios con vinculos y relaciones con la ci\\u00e9naga. \"],[\"Inundaci\\u00f3n de los municipios con vinculos y relaciones con la ci\\u00e9naga. \"],[\"Fuertes inundciones en los municipios con vinculos y relaciones con la ci\\u00e9naga grande del bajo Sin\\u00fa. \"],[\"Inundaciones en la Ci\\u00e9naga\"],[\"metiendo agua inundando comunidades ribere\\u00f1as como Cotoca Arriba, Palo de Agua, Nari\\u00f1o, El Playon, Cotoca Abajo y otros\"],[\"Cada vez con m\\u00e1s volumen y tiempo de inundaci\\u00f3n\"]],\"hovertemplate\":\"Categor\\u00eda=Natural\\u003cbr\\u003eDatetime1=%{base}\\u003cbr\\u003eDatetime2=%{x}\\u003cbr\\u003eHecho=%{y}\\u003cbr\\u003eDescripci\\u00f3n=%{customdata[0]}\\u003cextra\\u003e\\u003c\\u002fextra\\u003e\",\"legendgroup\":\"Natural\",\"marker\":{\"color\":\"#00cc96\",\"pattern\":{\"shape\":\"\"}},\"name\":\"Natural\",\"offsetgroup\":\"Natural\",\"orientation\":\"h\",\"showlegend\":true,\"textposition\":\"auto\",\"x\":[31536000000.0,31622400000.0,31622400000.0,31536000000.0,31622400000.0,31536000000.0,31536000000.0,31536000000.0,31536000000.0],\"xaxis\":\"x\",\"y\":[\"La Creciente\",\"Primera afectaci\\u00f3n por Urr\\u00e1\",\"La gran inundaci\\u00f3n\",\"Crecientes\",\"Crecientes\",\"Crecientes\",\"Crecientes\",\"Boca Nueva Colombia\",\"Crecientes\"],\"yaxis\":\"y\",\"type\":\"bar\"}],                        {\"template\":{\"data\":{\"histogram2dcontour\":[{\"type\":\"histogram2dcontour\",\"colorbar\":{\"outlinewidth\":0,\"ticks\":\"\"},\"colorscale\":[[0.0,\"#0d0887\"],[0.1111111111111111,\"#46039f\"],[0.2222222222222222,\"#7201a8\"],[0.3333333333333333,\"#9c179e\"],[0.4444444444444444,\"#bd3786\"],[0.5555555555555556,\"#d8576b\"],[0.6666666666666666,\"#ed7953\"],[0.7777777777777778,\"#fb9f3a\"],[0.8888888888888888,\"#fdca26\"],[1.0,\"#f0f921\"]]}],\"choropleth\":[{\"type\":\"choropleth\",\"colorbar\":{\"outlinewidth\":0,\"ticks\":\"\"}}],\"histogram2d\":[{\"type\":\"histogram2d\",\"colorbar\":{\"outlinewidth\":0,\"ticks\":\"\"},\"colorscale\":[[0.0,\"#0d0887\"],[0.1111111111111111,\"#46039f\"],[0.2222222222222222,\"#7201a8\"],[0.3333333333333333,\"#9c179e\"],[0.4444444444444444,\"#bd3786\"],[0.5555555555555556,\"#d8576b\"],[0.6666666666666666,\"#ed7953\"],[0.7777777777777778,\"#fb9f3a\"],[0.8888888888888888,\"#fdca26\"],[1.0,\"#f0f921\"]]}],\"heatmap\":[{\"type\":\"heatmap\",\"colorbar\":{\"outlinewidth\":0,\"ticks\":\"\"},\"colorscale\":[[0.0,\"#0d0887\"],[0.1111111111111111,\"#46039f\"],[0.2222222222222222,\"#7201a8\"],[0.3333333333333333,\"#9c179e\"],[0.4444444444444444,\"#bd3786\"],[0.5555555555555556,\"#d8576b\"],[0.6666666666666666,\"#ed7953\"],[0.7777777777777778,\"#fb9f3a\"],[0.8888888888888888,\"#fdca26\"],[1.0,\"#f0f921\"]]}],\"heatmapgl\":[{\"type\":\"heatmapgl\",\"colorbar\":{\"outlinewidth\":0,\"ticks\":\"\"},\"colorscale\":[[0.0,\"#0d0887\"],[0.1111111111111111,\"#46039f\"],[0.2222222222222222,\"#7201a8\"],[0.3333333333333333,\"#9c179e\"],[0.4444444444444444,\"#bd3786\"],[0.5555555555555556,\"#d8576b\"],[0.6666666666666666,\"#ed7953\"],[0.7777777777777778,\"#fb9f3a\"],[0.8888888888888888,\"#fdca26\"],[1.0,\"#f0f921\"]]}],\"contourcarpet\":[{\"type\":\"contourcarpet\",\"colorbar\":{\"outlinewidth\":0,\"ticks\":\"\"}}],\"contour\":[{\"type\":\"contour\",\"colorbar\":{\"outlinewidth\":0,\"ticks\":\"\"},\"colorscale\":[[0.0,\"#0d0887\"],[0.1111111111111111,\"#46039f\"],[0.2222222222222222,\"#7201a8\"],[0.3333333333333333,\"#9c179e\"],[0.4444444444444444,\"#bd3786\"],[0.5555555555555556,\"#d8576b\"],[0.6666666666666666,\"#ed7953\"],[0.7777777777777778,\"#fb9f3a\"],[0.8888888888888888,\"#fdca26\"],[1.0,\"#f0f921\"]]}],\"surface\":[{\"type\":\"surface\",\"colorbar\":{\"outlinewidth\":0,\"ticks\":\"\"},\"colorscale\":[[0.0,\"#0d0887\"],[0.1111111111111111,\"#46039f\"],[0.2222222222222222,\"#7201a8\"],[0.3333333333333333,\"#9c179e\"],[0.4444444444444444,\"#bd3786\"],[0.5555555555555556,\"#d8576b\"],[0.6666666666666666,\"#ed7953\"],[0.7777777777777778,\"#fb9f3a\"],[0.8888888888888888,\"#fdca26\"],[1.0,\"#f0f921\"]]}],\"mesh3d\":[{\"type\":\"mesh3d\",\"colorbar\":{\"outlinewidth\":0,\"ticks\":\"\"}}],\"scatter\":[{\"fillpattern\":{\"fillmode\":\"overlay\",\"size\":10,\"solidity\":0.2},\"type\":\"scatter\"}],\"parcoords\":[{\"type\":\"parcoords\",\"line\":{\"colorbar\":{\"outlinewidth\":0,\"ticks\":\"\"}}}],\"scatterpolargl\":[{\"type\":\"scatterpolargl\",\"marker\":{\"colorbar\":{\"outlinewidth\":0,\"ticks\":\"\"}}}],\"bar\":[{\"error_x\":{\"color\":\"#2a3f5f\"},\"error_y\":{\"color\":\"#2a3f5f\"},\"marker\":{\"line\":{\"color\":\"#E5ECF6\",\"width\":0.5},\"pattern\":{\"fillmode\":\"overlay\",\"size\":10,\"solidity\":0.2}},\"type\":\"bar\"}],\"scattergeo\":[{\"type\":\"scattergeo\",\"marker\":{\"colorbar\":{\"outlinewidth\":0,\"ticks\":\"\"}}}],\"scatterpolar\":[{\"type\":\"scatterpolar\",\"marker\":{\"colorbar\":{\"outlinewidth\":0,\"ticks\":\"\"}}}],\"histogram\":[{\"marker\":{\"pattern\":{\"fillmode\":\"overlay\",\"size\":10,\"solidity\":0.2}},\"type\":\"histogram\"}],\"scattergl\":[{\"type\":\"scattergl\",\"marker\":{\"colorbar\":{\"outlinewidth\":0,\"ticks\":\"\"}}}],\"scatter3d\":[{\"type\":\"scatter3d\",\"line\":{\"colorbar\":{\"outlinewidth\":0,\"ticks\":\"\"}},\"marker\":{\"colorbar\":{\"outlinewidth\":0,\"ticks\":\"\"}}}],\"scattermapbox\":[{\"type\":\"scattermapbox\",\"marker\":{\"colorbar\":{\"outlinewidth\":0,\"ticks\":\"\"}}}],\"scatterternary\":[{\"type\":\"scatterternary\",\"marker\":{\"colorbar\":{\"outlinewidth\":0,\"ticks\":\"\"}}}],\"scattercarpet\":[{\"type\":\"scattercarpet\",\"marker\":{\"colorbar\":{\"outlinewidth\":0,\"ticks\":\"\"}}}],\"carpet\":[{\"aaxis\":{\"endlinecolor\":\"#2a3f5f\",\"gridcolor\":\"white\",\"linecolor\":\"white\",\"minorgridcolor\":\"white\",\"startlinecolor\":\"#2a3f5f\"},\"baxis\":{\"endlinecolor\":\"#2a3f5f\",\"gridcolor\":\"white\",\"linecolor\":\"white\",\"minorgridcolor\":\"white\",\"startlinecolor\":\"#2a3f5f\"},\"type\":\"carpet\"}],\"table\":[{\"cells\":{\"fill\":{\"color\":\"#EBF0F8\"},\"line\":{\"color\":\"white\"}},\"header\":{\"fill\":{\"color\":\"#C8D4E3\"},\"line\":{\"color\":\"white\"}},\"type\":\"table\"}],\"barpolar\":[{\"marker\":{\"line\":{\"color\":\"#E5ECF6\",\"width\":0.5},\"pattern\":{\"fillmode\":\"overlay\",\"size\":10,\"solidity\":0.2}},\"type\":\"barpolar\"}],\"pie\":[{\"automargin\":true,\"type\":\"pie\"}]},\"layout\":{\"autotypenumbers\":\"strict\",\"colorway\":[\"#636efa\",\"#EF553B\",\"#00cc96\",\"#ab63fa\",\"#FFA15A\",\"#19d3f3\",\"#FF6692\",\"#B6E880\",\"#FF97FF\",\"#FECB52\"],\"font\":{\"color\":\"#2a3f5f\"},\"hovermode\":\"closest\",\"hoverlabel\":{\"align\":\"left\"},\"paper_bgcolor\":\"white\",\"plot_bgcolor\":\"#E5ECF6\",\"polar\":{\"bgcolor\":\"#E5ECF6\",\"angularaxis\":{\"gridcolor\":\"white\",\"linecolor\":\"white\",\"ticks\":\"\"},\"radialaxis\":{\"gridcolor\":\"white\",\"linecolor\":\"white\",\"ticks\":\"\"}},\"ternary\":{\"bgcolor\":\"#E5ECF6\",\"aaxis\":{\"gridcolor\":\"white\",\"linecolor\":\"white\",\"ticks\":\"\"},\"baxis\":{\"gridcolor\":\"white\",\"linecolor\":\"white\",\"ticks\":\"\"},\"caxis\":{\"gridcolor\":\"white\",\"linecolor\":\"white\",\"ticks\":\"\"}},\"coloraxis\":{\"colorbar\":{\"outlinewidth\":0,\"ticks\":\"\"}},\"colorscale\":{\"sequential\":[[0.0,\"#0d0887\"],[0.1111111111111111,\"#46039f\"],[0.2222222222222222,\"#7201a8\"],[0.3333333333333333,\"#9c179e\"],[0.4444444444444444,\"#bd3786\"],[0.5555555555555556,\"#d8576b\"],[0.6666666666666666,\"#ed7953\"],[0.7777777777777778,\"#fb9f3a\"],[0.8888888888888888,\"#fdca26\"],[1.0,\"#f0f921\"]],\"sequentialminus\":[[0.0,\"#0d0887\"],[0.1111111111111111,\"#46039f\"],[0.2222222222222222,\"#7201a8\"],[0.3333333333333333,\"#9c179e\"],[0.4444444444444444,\"#bd3786\"],[0.5555555555555556,\"#d8576b\"],[0.6666666666666666,\"#ed7953\"],[0.7777777777777778,\"#fb9f3a\"],[0.8888888888888888,\"#fdca26\"],[1.0,\"#f0f921\"]],\"diverging\":[[0,\"#8e0152\"],[0.1,\"#c51b7d\"],[0.2,\"#de77ae\"],[0.3,\"#f1b6da\"],[0.4,\"#fde0ef\"],[0.5,\"#f7f7f7\"],[0.6,\"#e6f5d0\"],[0.7,\"#b8e186\"],[0.8,\"#7fbc41\"],[0.9,\"#4d9221\"],[1,\"#276419\"]]},\"xaxis\":{\"gridcolor\":\"white\",\"linecolor\":\"white\",\"ticks\":\"\",\"title\":{\"standoff\":15},\"zerolinecolor\":\"white\",\"automargin\":true,\"zerolinewidth\":2},\"yaxis\":{\"gridcolor\":\"white\",\"linecolor\":\"white\",\"ticks\":\"\",\"title\":{\"standoff\":15},\"zerolinecolor\":\"white\",\"automargin\":true,\"zerolinewidth\":2},\"scene\":{\"xaxis\":{\"backgroundcolor\":\"#E5ECF6\",\"gridcolor\":\"white\",\"linecolor\":\"white\",\"showbackground\":true,\"ticks\":\"\",\"zerolinecolor\":\"white\",\"gridwidth\":2},\"yaxis\":{\"backgroundcolor\":\"#E5ECF6\",\"gridcolor\":\"white\",\"linecolor\":\"white\",\"showbackground\":true,\"ticks\":\"\",\"zerolinecolor\":\"white\",\"gridwidth\":2},\"zaxis\":{\"backgroundcolor\":\"#E5ECF6\",\"gridcolor\":\"white\",\"linecolor\":\"white\",\"showbackground\":true,\"ticks\":\"\",\"zerolinecolor\":\"white\",\"gridwidth\":2}},\"shapedefaults\":{\"line\":{\"color\":\"#2a3f5f\"}},\"annotationdefaults\":{\"arrowcolor\":\"#2a3f5f\",\"arrowhead\":0,\"arrowwidth\":1},\"geo\":{\"bgcolor\":\"white\",\"landcolor\":\"#E5ECF6\",\"subunitcolor\":\"white\",\"showland\":true,\"showlakes\":true,\"lakecolor\":\"white\"},\"title\":{\"x\":0.05},\"mapbox\":{\"style\":\"light\"}}},\"xaxis\":{\"anchor\":\"y\",\"domain\":[0.0,1.0],\"type\":\"date\",\"title\":{\"text\":\"Fecha\"},\"range\":[\"2000-01-01\",\"2023-12-31\"]},\"yaxis\":{\"anchor\":\"x\",\"domain\":[0.0,1.0],\"title\":{\"text\":\"Hecho\"}},\"legend\":{\"title\":{\"text\":\"Categor\\u00eda\"},\"tracegroupgap\":0},\"margin\":{\"t\":60},\"barmode\":\"overlay\",\"title\":{\"text\":\"L\\u00ednea de tiempo\"},\"height\":600,\"width\":800},                        {\"responsive\": true}                    ).then(function(){\n",
       "                            \n",
       "var gd = document.getElementById('a36074ff-a58d-4370-9caf-a8190973ca78');\n",
       "var x = new MutationObserver(function (mutations, observer) {{\n",
       "        var display = window.getComputedStyle(gd).display;\n",
       "        if (!display || display === 'none') {{\n",
       "            console.log([gd, 'removed!']);\n",
       "            Plotly.purge(gd);\n",
       "            observer.disconnect();\n",
       "        }}\n",
       "}});\n",
       "\n",
       "// Listen for the removal of the full notebook cells\n",
       "var notebookContainer = gd.closest('#notebook-container');\n",
       "if (notebookContainer) {{\n",
       "    x.observe(notebookContainer, {childList: true});\n",
       "}}\n",
       "\n",
       "// Listen for the clearing of the current output cell\n",
       "var outputEl = gd.closest('.output');\n",
       "if (outputEl) {{\n",
       "    x.observe(outputEl, {childList: true});\n",
       "}}\n",
       "\n",
       "                        })                };                });            </script>        </div>"
      ]
     },
     "metadata": {},
     "output_type": "display_data"
    }
   ],
   "source": [
    "import pandas as pd\n",
    "import plotly.express as px\n",
    "\n",
    "# Cargar el archivo CSV en un DataFrame de Pandas\n",
    "df = pd.read_csv('linea_sinu.csv')\n",
    "\n",
    "# Asegurarse de que las columnas de fecha sean de tipo datetime\n",
    "df['Datetime1'] = pd.to_datetime(df['Datetime1'])\n",
    "df['Datetime2'] = pd.to_datetime(df['Datetime2'])\n",
    "# format='%Y-%m-%d'\n",
    "\n",
    "# Crear la figura de la línea de tiempo\n",
    "fig = px.timeline(df, x_start='Datetime1', x_end='Datetime2', y='Hecho', color='Categoría',hover_data={'Descripción': True})\n",
    "\n",
    "# Personalizar la apariencia de la línea de tiempo\n",
    "fig.update_layout(title='Línea de tiempo',\n",
    "                  height=600, width=800,  # Ajustar tamaño de la línea de tiempo\n",
    "                  xaxis=dict(title='Fecha'), yaxis=dict(title='Hecho'))\n",
    "\n",
    "fig.update_xaxes(range=['2000-01-01', '2023-12-31'])\n",
    "\n",
    "# Mostrar la línea de tiempo interactiva\n",
    "fig.show()\n"
   ]
  },
  {
   "cell_type": "code",
   "execution_count": null,
   "id": "59a10389",
   "metadata": {},
   "outputs": [],
   "source": []
  }
 ],
 "metadata": {
  "kernelspec": {
   "display_name": "Python 3 (ipykernel)",
   "language": "python",
   "name": "python3"
  },
  "language_info": {
   "codemirror_mode": {
    "name": "ipython",
    "version": 3
   },
   "file_extension": ".py",
   "mimetype": "text/x-python",
   "name": "python",
   "nbconvert_exporter": "python",
   "pygments_lexer": "ipython3",
   "version": "3.11.3"
  }
 },
 "nbformat": 4,
 "nbformat_minor": 5
}
